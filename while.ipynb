{
 "cells": [
  {
   "cell_type": "code",
   "execution_count": 1,
   "metadata": {},
   "outputs": [
    {
     "name": "stdout",
     "output_type": "stream",
     "text": [
      "2 * 20 = 40\n",
      "2 * 19 = 38\n",
      "2 * 18 = 36\n",
      "2 * 17 = 34\n",
      "2 * 16 = 32\n",
      "2 * 15 = 30\n",
      "2 * 14 = 28\n",
      "2 * 13 = 26\n",
      "2 * 12 = 24\n",
      "2 * 11 = 22\n",
      "2 * 10 = 20\n",
      "2 * 9 = 18\n",
      "2 * 8 = 16\n",
      "2 * 7 = 14\n",
      "2 * 6 = 12\n",
      "2 * 5 = 10\n",
      "2 * 4 = 8\n",
      "2 * 3 = 6\n",
      "2 * 2 = 4\n",
      "2 * 1 = 2\n"
     ]
    }
   ],
   "source": [
    "i=20\n",
    "n=int(input())\n",
    "while i>=1:\n",
    "    print(n,\"*\",i,\"=\",i*n)\n",
    "    i-=1"
   ]
  },
  {
   "cell_type": "code",
   "execution_count": null,
   "metadata": {},
   "outputs": [
    {
     "name": "stdout",
     "output_type": "stream",
     "text": [
      "2 * 1 = 2\n",
      "2 * 2 = 4\n",
      "2 * 3 = 6\n",
      "2 * 4 = 8\n",
      "2 * 5 = 10\n",
      "2 * 6 = 12\n",
      "2 * 7 = 14\n",
      "2 * 8 = 16\n",
      "2 * 9 = 18\n",
      "2 * 10 = 20\n",
      "2 * 11 = 22\n",
      "2 * 12 = 24\n",
      "2 * 13 = 26\n",
      "2 * 14 = 28\n",
      "2 * 15 = 30\n",
      "2 * 16 = 32\n",
      "2 * 17 = 34\n",
      "2 * 18 = 36\n",
      "2 * 19 = 38\n",
      "2 * 20 = 40\n"
     ]
    }
   ],
   "source": [
    "i=1\n",
    "n=int(input())\n",
    "while i<=20:\n",
    "    print(n,\"*\",i,\"=\",i*n)\n",
    "    i+=1"
   ]
  },
  {
   "cell_type": "code",
   "execution_count": null,
   "metadata": {},
   "outputs": [
    {
     "name": "stdout",
     "output_type": "stream",
     "text": [
      "10 hate you\n"
     ]
    }
   ],
   "source": [
    "i=int(input())\n",
    "while i<=30:\n",
    "    if i%3==0 and i%5==0:\n",
    "        print(i,\"i like you\")\n",
    "        break\n",
    "    elif i%3==0:\n",
    "        print(i,\"love you\")\n",
    "        break\n",
    "    elif i%5==0:\n",
    "        print(i,\"hate you\")\n",
    "        break\n",
    "     \n",
    "    i+=1"
   ]
  },
  {
   "cell_type": "code",
   "execution_count": null,
   "metadata": {},
   "outputs": [
    {
     "name": "stdout",
     "output_type": "stream",
     "text": [
      "27\n",
      "30\n",
      "33\n",
      "36\n",
      "39\n",
      "42\n",
      "45\n",
      "48\n",
      "51\n",
      "54\n",
      "57\n",
      "60\n",
      "63\n",
      "66\n"
     ]
    }
   ],
   "source": [
    "i=25\n",
    "while i<=66:\n",
    "    if i%3==0:\n",
    "        print(i)\n",
    "    i+=1"
   ]
  },
  {
   "cell_type": "code",
   "execution_count": null,
   "metadata": {},
   "outputs": [
    {
     "name": "stdout",
     "output_type": "stream",
     "text": [
      "15\n",
      "30\n",
      "45\n",
      "60\n",
      "75\n"
     ]
    }
   ],
   "source": [
    "i=15\n",
    "while i<=76:\n",
    "    if i%3==0 and i%5==0:\n",
    "        print(i)\n",
    "    i+=1"
   ]
  },
  {
   "cell_type": "code",
   "execution_count": null,
   "metadata": {},
   "outputs": [
    {
     "name": "stdout",
     "output_type": "stream",
     "text": [
      "70\n",
      "35\n"
     ]
    }
   ],
   "source": [
    "i=77\n",
    "while i>=22:\n",
    "    if i%5==0 and i%7==0:\n",
    "        print(i)\n",
    "    i-=1"
   ]
  },
  {
   "cell_type": "code",
   "execution_count": null,
   "metadata": {},
   "outputs": [
    {
     "name": "stdout",
     "output_type": "stream",
     "text": [
      "LCM is: 4\n"
     ]
    }
   ],
   "source": [
    "a=int(input(\"Enter the first number:\"))\n",
    "b=int(input(\"Enter the second number:\"))\n",
    "maximum = max(a, b)\n",
    "while(1):\n",
    "    if(maximum %a==0 and maximum %b==0):\n",
    "        print(\"LCM is:\",maximum)\n",
    "    break\n"
   ]
  },
  {
   "cell_type": "code",
   "execution_count": null,
   "metadata": {},
   "outputs": [
    {
     "name": "stdout",
     "output_type": "stream",
     "text": [
      "LCM of two numbers: 48.0\n"
     ]
    }
   ],
   "source": [
    "#LCM OF TWO NUMBERS\n",
    "num1=x=int(input())\n",
    "num2=y=int(input())\n",
    "i=1\n",
    "v=True\n",
    "while v:\n",
    "    if (num1%i==0 and num2%i==0):\n",
    "        \n"
   ]
  },
  {
   "cell_type": "code",
   "execution_count": null,
   "metadata": {},
   "outputs": [
    {
     "name": "stdout",
     "output_type": "stream",
     "text": [
      "GCD of two numbers: 2\n"
     ]
    }
   ],
   "source": [
    "#HCF of two numbers\n",
    "num1=x=int(input())\n",
    "num2=y=int(input())\n",
    "i=1\n",
    "gcd=1\n",
    "while i<=num1 and i<=num2:\n",
    "    if (num1%i==0 and num2%i==0):\n",
    "        gcd=i\n",
    "    i+=1\n",
    "print(\"GCD of two numbers:\",gcd)"
   ]
  },
  {
   "cell_type": "code",
   "execution_count": null,
   "metadata": {},
   "outputs": [
    {
     "name": "stdout",
     "output_type": "stream",
     "text": [
      "25\n",
      "16\n",
      "9\n",
      "4\n",
      "1\n"
     ]
    }
   ],
   "source": [
    "n=int(input())\n",
    "while n>0:\n",
    "    num=n%10\n",
    "    print(num*num)\n",
    "    n=n//10"
   ]
  },
  {
   "cell_type": "code",
   "execution_count": 15,
   "metadata": {},
   "outputs": [
    {
     "name": "stdout",
     "output_type": "stream",
     "text": [
      "not palindrome\n"
     ]
    }
   ],
   "source": [
    "ch=input()\n",
    "av=ord(ch)\n",
    "while av>0:\n",
    "    digit=av%10\n",
    "    rev=rev*10+digit\n",
    "    av=av//10\n",
    "if rev==av:\n",
    "    print(\"palindrome\")\n",
    "else:\n",
    "    print(\"not palindrome\")\n"
   ]
  },
  {
   "cell_type": "code",
   "execution_count": 1,
   "metadata": {},
   "outputs": [
    {
     "name": "stdout",
     "output_type": "stream",
     "text": [
      "5 prime number\n"
     ]
    }
   ],
   "source": [
    "#given number is prime or not\n",
    "n=int(input())\n",
    "i=1\n",
    "c=0\n",
    "while i<=n:\n",
    "    if n%i==0:\n",
    "        c=c+1\n",
    "    i+=1\n",
    "if (c==2):\n",
    "    print(n,\"prime number\")\n",
    "else:\n",
    "    print(n,\"not prime number\")"
   ]
  }
 ],
 "metadata": {
  "kernelspec": {
   "display_name": "Python 3",
   "language": "python",
   "name": "python3"
  },
  "language_info": {
   "codemirror_mode": {
    "name": "ipython",
    "version": 3
   },
   "file_extension": ".py",
   "mimetype": "text/x-python",
   "name": "python",
   "nbconvert_exporter": "python",
   "pygments_lexer": "ipython3",
   "version": "3.12.2"
  }
 },
 "nbformat": 4,
 "nbformat_minor": 2
}
