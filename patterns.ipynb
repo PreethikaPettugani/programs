{
 "cells": [
  {
   "cell_type": "code",
   "execution_count": 2,
   "metadata": {},
   "outputs": [
    {
     "name": "stdout",
     "output_type": "stream",
     "text": [
      "* * * * * \n",
      "* * * * * \n",
      "* * * * * \n",
      "* * * * * \n",
      "* * * * * \n"
     ]
    }
   ],
   "source": [
    "i=1\n",
    "while i<=5:\n",
    "    j=1\n",
    "    while j<=5:\n",
    "        print(\"*\",end=\" \")\n",
    "        j+=1\n",
    "    print()\n",
    "    i+=1"
   ]
  },
  {
   "cell_type": "code",
   "execution_count": 3,
   "metadata": {},
   "outputs": [
    {
     "name": "stdout",
     "output_type": "stream",
     "text": [
      "    *     \n",
      "    *     \n",
      "    *     \n",
      "    *     \n",
      "    *     \n"
     ]
    }
   ],
   "source": [
    "i=1\n",
    "while i<=5:\n",
    "    j=1\n",
    "    while j<=5:\n",
    "        if j==3:\n",
    "            print(\"*\",end=\" \")\n",
    "        else:\n",
    "            print(\" \",end=\" \")\n",
    "        j+=1\n",
    "    print()\n",
    "    i+=1"
   ]
  },
  {
   "cell_type": "code",
   "execution_count": 1,
   "metadata": {},
   "outputs": [
    {
     "name": "stdout",
     "output_type": "stream",
     "text": [
      "* $ * # * \n",
      "* $ * # * \n",
      "* $ * # * \n",
      "* $ * # * \n",
      "* $ * # * \n"
     ]
    }
   ],
   "source": [
    "i=1\n",
    "while i<=5:\n",
    "    j=1\n",
    "    while j<=5:\n",
    "        if j%2==1:\n",
    "            print(\"*\",end=\" \")\n",
    "        elif j==2:\n",
    "            print(\"$\",end=\" \")\n",
    "        else:\n",
    "            print(\"#\",end=\" \")\n",
    "        j+=1\n",
    "    print()\n",
    "    i+=1"
   ]
  },
  {
   "cell_type": "code",
   "execution_count": 6,
   "metadata": {},
   "outputs": [
    {
     "name": "stdout",
     "output_type": "stream",
     "text": [
      "* *               *               * * \n",
      "* *             * * *             * * \n",
      "* *           * * * * *           * * \n",
      "* *         * * * * * * *         * * \n",
      "* * * * * * * * * * * * * * * * * * * \n"
     ]
    }
   ],
   "source": [
    "n=int(input())\n",
    "i=1\n",
    "while i<=n:\n",
    "    j=1\n",
    "    while j<=n:\n",
    "        if j==1 or j==2 or i==5:\n",
    "            print(\"*\",end=\" \")\n",
    "        else:\n",
    "            print(\" \",end=\" \")\n",
    "        j+=1\n",
    "    j=1\n",
    "    while j<=n:\n",
    "        if i==5 or i+j>=n+1:\n",
    "            print(\"*\",end=\" \")\n",
    "        else:\n",
    "            print(\" \",end=\" \")\n",
    "        j+=1\n",
    "    j=2\n",
    "    while j<=n:\n",
    "        if i>=j:\n",
    "            print(\"*\",end=\" \")\n",
    "        else:\n",
    "            print(\" \",end=\" \")\n",
    "        j+=1\n",
    "    j=1\n",
    "    while j<=n:\n",
    "        if j==4 or j==5 or i==5:\n",
    "            print(\"*\",end=\" \")\n",
    "        else:\n",
    "            print(\" \",end=\" \")\n",
    "        j+=1\n",
    "    print()\n",
    "    i+=1"
   ]
  },
  {
   "cell_type": "code",
   "execution_count": 12,
   "metadata": {},
   "outputs": [
    {
     "name": "stdout",
     "output_type": "stream",
     "text": [
      "*                 *                 * \n",
      "* *             * * *             * * \n",
      "* * *         * * * * *         * * * \n",
      "* * * *     * * * * * * *     * * * * \n",
      "* * * * * * * * * * * * * * * * * * * \n"
     ]
    }
   ],
   "source": [
    "n=int(input())\n",
    "i=1\n",
    "while i<=n:\n",
    "    j=1\n",
    "    while j<=n:\n",
    "        if i>=j:\n",
    "            print(\"*\",end=\" \")\n",
    "        else:\n",
    "            print(\" \",end=\" \")\n",
    "        j+=1\n",
    "    j=1\n",
    "    while j<=n:\n",
    "        if i==5 or i+j>=n+1:\n",
    "            print(\"*\",end=\" \")\n",
    "        else:\n",
    "            print(\" \",end=\" \")\n",
    "        j+=1\n",
    "    j=2\n",
    "    while j<=n:\n",
    "        if i>=j:\n",
    "            print(\"*\",end=\" \")\n",
    "        else:\n",
    "            print(\" \",end=\" \")\n",
    "        j+=1\n",
    "    j=1\n",
    "    while j<=n:\n",
    "        if i+j>=n+1:\n",
    "            print(\"*\",end=\" \")\n",
    "        else:\n",
    "            print(\" \",end=\" \")\n",
    "        j+=1\n",
    "    print()\n",
    "    i+=1"
   ]
  },
  {
   "cell_type": "code",
   "execution_count": 23,
   "metadata": {},
   "outputs": [
    {
     "name": "stdout",
     "output_type": "stream",
     "text": [
      "* * * * * * * * * * * * * * * \n",
      "*                           * \n",
      "*                           * \n",
      "*                           * \n",
      "* * * * * * * * * * * * * * * \n"
     ]
    }
   ],
   "source": [
    "n=int(input())\n",
    "i=1\n",
    "while i<=n:\n",
    "    j=1\n",
    "    while j<=n:\n",
    "        if (i==1 or i==5 or j==1):\n",
    "            print(\"*\",end=\" \")\n",
    "        else:\n",
    "            print(\" \",end=\" \")\n",
    "        j+=1\n",
    "    j=1\n",
    "    while j<=n:\n",
    "        if (i==1 or i==5):\n",
    "            print(\"*\",end=\" \")\n",
    "        else:\n",
    "            print(\" \",end=\" \")\n",
    "        j+=1\n",
    "    j=1\n",
    "    while j<=n:\n",
    "        if (i==1 or i==5 or j==5):\n",
    "            print(\"*\",end=\" \")\n",
    "        else:\n",
    "            print(\" \",end=\" \")\n",
    "        j+=1\n",
    "    print()\n",
    "    i+=1"
   ]
  },
  {
   "cell_type": "code",
   "execution_count": 31,
   "metadata": {},
   "outputs": [
    {
     "name": "stdout",
     "output_type": "stream",
     "text": [
      "* * * * * * * * * * * * * * * * * * * \n",
      "                * * *                 \n",
      "* * * * * * * * * * * * * * * * * * * \n",
      "            * * * * * * *             \n",
      "* * * * * * * * * * * * * * * * * * * \n"
     ]
    }
   ],
   "source": [
    "n=int(input())\n",
    "i=1\n",
    "while i<=n:\n",
    "    j=1\n",
    "    while j<=n:\n",
    "        if (i==1 or i==3 or i==5 or i==3):\n",
    "            print(\"*\",end=\" \")\n",
    "        else:\n",
    "            print(\" \",end=\" \")\n",
    "        j+=1\n",
    "    j=1\n",
    "    while j<=n:\n",
    "        if i+j>=n+1 or i==3 or i==1:\n",
    "            print(\"*\",end=\" \")\n",
    "        else:\n",
    "            print(\" \",end=\" \")\n",
    "        j+=1\n",
    "    j=2\n",
    "    while j<=n:\n",
    "        if i>=j or i==3 or i==1:\n",
    "            print(\"*\",end=\" \")\n",
    "        else:\n",
    "            print(\" \",end=\" \")\n",
    "        j+=1\n",
    "    j=1\n",
    "    while j<=n:\n",
    "        if (i==1 or i==3 or i==5 or i==3):\n",
    "            print(\"*\",end=\" \")\n",
    "        else:\n",
    "            print(\" \",end=\" \")\n",
    "        j+=1\n",
    "    print()\n",
    "    i+=1"
   ]
  },
  {
   "cell_type": "code",
   "execution_count": 24,
   "metadata": {},
   "outputs": [
    {
     "name": "stdout",
     "output_type": "stream",
     "text": [
      "*         \n",
      "* *       \n",
      "* * *     \n",
      "* * * *   \n",
      "* * * * * \n",
      "* * * *   \n",
      "* * *     \n",
      "* *       \n",
      "*         \n",
      "          \n"
     ]
    }
   ],
   "source": [
    "n=int(input())\n",
    "i=1\n",
    "while i<=n:\n",
    "    j=1\n",
    "    while j<=n:\n",
    "        if i>=j:\n",
    "            print(\"*\",end=\" \")\n",
    "        else:\n",
    "            print(\" \",end=\" \")\n",
    "        j+=1\n",
    "    print()\n",
    "    i+=1\n",
    "i=1\n",
    "while i<=n:\n",
    "    j=1\n",
    "    while j<=n:\n",
    "        if i+j<=n:\n",
    "            print(\"*\",end=\" \")\n",
    "        else:\n",
    "            print(\" \",end=\" \")\n",
    "        j+=1\n",
    "    print()\n",
    "    i+=1\n",
    "    "
   ]
  },
  {
   "cell_type": "code",
   "execution_count": 15,
   "metadata": {},
   "outputs": [
    {
     "name": "stdout",
     "output_type": "stream",
     "text": [
      "          *         \n",
      "          * *       \n",
      "          * * *     \n",
      "          * * * *   \n",
      "* * * * * * * * * * \n",
      "          * * * *   \n",
      "          * * *     \n",
      "          * *       \n",
      "          *         \n",
      "                    \n"
     ]
    }
   ],
   "source": [
    "n=int(input())\n",
    "i=1\n",
    "while i<=n:\n",
    "    j=1\n",
    "    while j<=n:\n",
    "        if i==n:\n",
    "            print(\"*\",end=\" \")\n",
    "        else:\n",
    "            print(\" \",end=\" \")\n",
    "        j+=1\n",
    "    j=1\n",
    "    while j<=n:\n",
    "        if i>=j:\n",
    "            print(\"*\",end=\" \")\n",
    "        else:\n",
    "            print(\" \",end=\" \")\n",
    "        j+=1\n",
    "    print()\n",
    "    i+=1\n",
    "i=1\n",
    "while i<=n:\n",
    "    j=1\n",
    "    while j<=n:\n",
    "        print(\" \",end=\" \")\n",
    "        j+=1\n",
    "    j=1\n",
    "    while j<=n:\n",
    "        if i+j<=n:\n",
    "            print(\"*\",end=\" \")\n",
    "        else:\n",
    "            print(\" \",end=\" \")\n",
    "        j+=1\n",
    "    print()\n",
    "    i+=1"
   ]
  },
  {
   "cell_type": "code",
   "execution_count": 38,
   "metadata": {},
   "outputs": [
    {
     "name": "stdout",
     "output_type": "stream",
     "text": [
      "*               * \n",
      "* *           * * \n",
      "* * *       * * * \n",
      "* * * *   * * * * \n",
      "* * * * * * * * * \n",
      "* * * *   * * * * \n",
      "* * *       * * * \n",
      "* *           * * \n",
      "*               * \n",
      "                  \n"
     ]
    }
   ],
   "source": [
    "n=int(input())\n",
    "i=1\n",
    "while i<=n:\n",
    "    j=1\n",
    "    while j<=n:\n",
    "        if i>=j:\n",
    "            print(\"*\",end=\" \")\n",
    "        else:\n",
    "            print(\" \",end=\" \")\n",
    "        j+=1\n",
    "    j=1\n",
    "    while j<n:\n",
    "        if i+j>=n:\n",
    "            print(\"*\",end=\" \")\n",
    "        else:\n",
    "            print(\" \",end=\" \")\n",
    "        j+=1\n",
    "    print()\n",
    "    i+=1\n",
    "i=1\n",
    "while i<=n:\n",
    "    j=1\n",
    "    while j<=n:\n",
    "        if i+j<=n:\n",
    "            print(\"*\",end=\" \")\n",
    "        else:\n",
    "            print(\" \",end=\" \")\n",
    "        j+=1\n",
    "    j=1\n",
    "    while j<n:\n",
    "        if i<=j:\n",
    "            print(\"*\",end=\" \")\n",
    "        else:\n",
    "            print(\" \",end=\" \")\n",
    "        j+=1\n",
    "    print()\n",
    "    i+=1"
   ]
  },
  {
   "cell_type": "code",
   "execution_count": 43,
   "metadata": {},
   "outputs": [
    {
     "name": "stdout",
     "output_type": "stream",
     "text": [
      "*         *         \n",
      "* *       * *       \n",
      "* * *     * * *     \n",
      "* * * *   * * * *   \n",
      "* * * * * * * * * * \n",
      "* * * *   * * * *   \n",
      "* * *     * * *     \n",
      "* *       * *       \n",
      "*         *         \n",
      "                    \n"
     ]
    }
   ],
   "source": [
    "n=int(input())\n",
    "i=1\n",
    "while i<=n:\n",
    "    j=1\n",
    "    while j<=n:\n",
    "        if i>=j:\n",
    "            print(\"*\",end=\" \")\n",
    "        else:\n",
    "            print(\" \",end=\" \")\n",
    "        j+=1\n",
    "    j=1\n",
    "    while j<=n:\n",
    "        if i>=j:\n",
    "            print(\"*\",end=\" \")\n",
    "        else:\n",
    "            print(\" \",end=\" \")\n",
    "        j+=1\n",
    "    print()\n",
    "    i+=1\n",
    "i=1\n",
    "while i<=n:\n",
    "    j=1\n",
    "    while j<=n:\n",
    "        if i+j<=n:\n",
    "            print(\"*\",end=\" \")\n",
    "        else:\n",
    "            print(\" \",end=\" \")\n",
    "        j+=1\n",
    "    j=1\n",
    "    while j<=n:\n",
    "        if i+j<=n:\n",
    "            print(\"*\",end=\" \")\n",
    "        else:\n",
    "            print(\" \",end=\" \")\n",
    "        j+=1\n",
    "    print()\n",
    "    i+=1\n"
   ]
  },
  {
   "cell_type": "code",
   "execution_count": 50,
   "metadata": {},
   "outputs": [
    {
     "name": "stdout",
     "output_type": "stream",
     "text": [
      "*                 *                 * \n",
      "* *             * * *             * * \n",
      "* * *         * * * * *         * * * \n",
      "* * * *     * * * * * * *     * * * * \n",
      "* * * * * * * * * * * * * * * * * * * \n",
      "*         *               *         *   \n",
      "*         *               *         *   \n",
      "*         *               *         *   \n",
      "*         *               *         *   \n",
      "*         *               *         *   \n"
     ]
    }
   ],
   "source": [
    "n=int(input())\n",
    "i=1\n",
    "while i<=n:\n",
    "    j=1\n",
    "    while j<=n:\n",
    "        if i>=j:\n",
    "            print(\"*\",end=\" \")\n",
    "        else:\n",
    "            print(\" \",end=\" \")\n",
    "        j+=1\n",
    "    j=1\n",
    "    while j<=n:\n",
    "        if i==5 or i+j>=n+1:\n",
    "            print(\"*\",end=\" \")\n",
    "        else:\n",
    "            print(\" \",end=\" \")\n",
    "        j+=1\n",
    "    j=2\n",
    "    while j<=n:\n",
    "        if i>=j:\n",
    "            print(\"*\",end=\" \")\n",
    "        else:\n",
    "            print(\" \",end=\" \")\n",
    "        j+=1\n",
    "    j=1\n",
    "    while j<=n:\n",
    "        if i+j>=n+1:\n",
    "            print(\"*\",end=\" \")\n",
    "        else:\n",
    "            print(\" \",end=\" \")\n",
    "        j+=1\n",
    "    print()\n",
    "    i+=1\n",
    "i=1\n",
    "while i<=n:\n",
    "    j=1\n",
    "    while j<=n:\n",
    "        if j==1:\n",
    "            print(\"*\",end=\" \")\n",
    "        else:\n",
    "            print(\" \",end=\" \")\n",
    "        j+=1\n",
    "    j=1\n",
    "    while j<=n:\n",
    "        if j==1:\n",
    "            print(\"*\",end=\" \")\n",
    "        else:\n",
    "            print(\" \",end=\" \")\n",
    "        j+=1\n",
    "    j=1\n",
    "    while j<=n:\n",
    "        if j==4:\n",
    "            print(\"*\",end=\" \")\n",
    "        else:\n",
    "            print(\" \",end=\" \")\n",
    "        j+=1\n",
    "    j=1\n",
    "    while j<=n:\n",
    "        if j==4:\n",
    "            print(\"*\",end=\" \")\n",
    "        else:\n",
    "            print(\" \",end=\" \")\n",
    "        j+=1\n",
    "    print()\n",
    "    i+=1\n",
    "\n",
    "    \n",
    "\n",
    "    \n",
    "\n",
    "    \n"
   ]
  },
  {
   "cell_type": "code",
   "execution_count": 58,
   "metadata": {},
   "outputs": [
    {
     "name": "stdout",
     "output_type": "stream",
     "text": [
      "        *         \n",
      "      * * *       \n",
      "    * * * * *     \n",
      "  * * * * * * *   \n",
      "* * * * * * * * * \n",
      "    *       *       \n",
      "    *       *       \n",
      "    *       *       \n",
      "    *       *       \n",
      "    *       *       \n"
     ]
    }
   ],
   "source": [
    "n=int(input())\n",
    "i=1\n",
    "while i<=n:\n",
    "    j=1\n",
    "    while j<=n:\n",
    "        if i+j>=n+1:\n",
    "            print(\"*\",end=\" \")\n",
    "        else: \n",
    "            print(\" \",end=\" \")\n",
    "        j+=1\n",
    "    j=2\n",
    "    while j<=n:\n",
    "        if i>=j:\n",
    "            print(\"*\",end=\" \")\n",
    "        else: \n",
    "            print(\" \",end=\" \")\n",
    "        j+=1\n",
    "    print()\n",
    "    i+=1\n",
    "i=1\n",
    "while i<=n:\n",
    "    j=1\n",
    "    while j<=n:\n",
    "        if j==3:\n",
    "            print(\"*\",end=\" \")\n",
    "        else: \n",
    "            print(\" \",end=\" \")\n",
    "        j+=1\n",
    "    j=1\n",
    "    while j<=n:\n",
    "        if j==2:\n",
    "            print(\"*\",end=\" \")\n",
    "        else: \n",
    "            print(\" \",end=\" \")\n",
    "        j+=1\n",
    "    print()\n",
    "    i+=1\n",
    "\n",
    "\n",
    "\n"
   ]
  }
 ],
 "metadata": {
  "kernelspec": {
   "display_name": "Python 3",
   "language": "python",
   "name": "python3"
  },
  "language_info": {
   "codemirror_mode": {
    "name": "ipython",
    "version": 3
   },
   "file_extension": ".py",
   "mimetype": "text/x-python",
   "name": "python",
   "nbconvert_exporter": "python",
   "pygments_lexer": "ipython3",
   "version": "3.12.2"
  }
 },
 "nbformat": 4,
 "nbformat_minor": 2
}
