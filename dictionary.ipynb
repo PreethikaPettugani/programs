{
 "cells": [
  {
   "cell_type": "code",
   "execution_count": 2,
   "metadata": {},
   "outputs": [
    {
     "name": "stdout",
     "output_type": "stream",
     "text": [
      "<class 'dict'>\n",
      "{}\n",
      "<class 'dict'>\n",
      "{1: 100, 2: 200, 3: 300}\n",
      "{1: 700, 2: 400, 3: 300}\n"
     ]
    }
   ],
   "source": [
    "d={}\n",
    "print(type(d))\n",
    "print(d)\n",
    "d1={1:100,2:200,3:300}\n",
    "print(type(d1))\n",
    "print(d1)\n",
    "d3={1:700,2:200,3:300,2:400}\n",
    "print(d3)"
   ]
  },
  {
   "cell_type": "code",
   "execution_count": 7,
   "metadata": {},
   "outputs": [
    {
     "name": "stdout",
     "output_type": "stream",
     "text": [
      "1000\n",
      "2000\n",
      "rajkumar\n",
      "24\n"
     ]
    }
   ],
   "source": [
    "d={1:1000,2:2000}\n",
    "print(d[1])\n",
    "print(d[2])\n",
    "d1={\"name\":\"rajkumar\",\"age\":24}\n",
    "print(d1[\"name\"])\n",
    "print(d1[\"age\"])"
   ]
  },
  {
   "cell_type": "code",
   "execution_count": 8,
   "metadata": {},
   "outputs": [
    {
     "name": "stdout",
     "output_type": "stream",
     "text": [
      "[100, 200, 300]\n",
      "100\n",
      "200\n"
     ]
    }
   ],
   "source": [
    "d={1:[100,200,300]}\n",
    "print(d[1])\n",
    "print(d[1][0])\n",
    "print(d[1][1])"
   ]
  }
 ],
 "metadata": {
  "kernelspec": {
   "display_name": "Python 3",
   "language": "python",
   "name": "python3"
  },
  "language_info": {
   "codemirror_mode": {
    "name": "ipython",
    "version": 3
   },
   "file_extension": ".py",
   "mimetype": "text/x-python",
   "name": "python",
   "nbconvert_exporter": "python",
   "pygments_lexer": "ipython3",
   "version": "3.12.2"
  }
 },
 "nbformat": 4,
 "nbformat_minor": 2
}
