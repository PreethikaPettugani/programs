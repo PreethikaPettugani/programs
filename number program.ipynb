{
 "cells": [
  {
   "cell_type": "code",
   "execution_count": 3,
   "metadata": {},
   "outputs": [
    {
     "name": "stdout",
     "output_type": "stream",
     "text": [
      "3\n",
      "2\n",
      "1\n"
     ]
    }
   ],
   "source": [
    "n=12345670\n",
    "while n>0:\n",
    "    print(n%10)\n",
    "    n=n//10"
   ]
  },
  {
   "cell_type": "code",
   "execution_count": 7,
   "metadata": {},
   "outputs": [
    {
     "name": "stdout",
     "output_type": "stream",
     "text": [
      "10\n"
     ]
    }
   ],
   "source": [
    "#sum of the digits in a given number\n",
    "num=int(input())\n",
    "sum=0\n",
    "while num>0:\n",
    "    digit=num%10\n",
    "    sum=sum+digit\n",
    "    num=num//10\n",
    "print(sum)"
   ]
  },
  {
   "cell_type": "code",
   "execution_count": 9,
   "metadata": {},
   "outputs": [
    {
     "name": "stdout",
     "output_type": "stream",
     "text": [
      "6\n"
     ]
    }
   ],
   "source": [
    "#product of the digits in a given number\n",
    "num=int(input())\n",
    "product=1\n",
    "while num>0:\n",
    "    digit=num%10\n",
    "    product=product*digit\n",
    "    num=num//10\n",
    "print(product)"
   ]
  },
  {
   "cell_type": "code",
   "execution_count": 2,
   "metadata": {},
   "outputs": [
    {
     "name": "stdout",
     "output_type": "stream",
     "text": [
      "4\n"
     ]
    }
   ],
   "source": [
    "#count of given number\n",
    "num=int(input())\n",
    "count=0\n",
    "while num>0:\n",
    "    digit=num%10\n",
    "    count=count+1\n",
    "    num=num//10\n",
    "print(count)"
   ]
  },
  {
   "cell_type": "code",
   "execution_count": 16,
   "metadata": {},
   "outputs": [
    {
     "name": "stdout",
     "output_type": "stream",
     "text": [
      "count: 5\n",
      "123\n",
      "middle digit: 3\n"
     ]
    }
   ],
   "source": [
    "n=int(input())\n",
    "count=0\n",
    "num=n\n",
    "while num>0:\n",
    "    digit=num%10\n",
    "    count+=1\n",
    "    num=num//10\n",
    "print(\"count:\",count)\n",
    "mid=count//2\n",
    "num=n\n",
    "while mid>0:\n",
    "    num=num//10\n",
    "    mid-=1\n",
    "print(num)\n",
    "print(\"middle digit:\",num%10)\n",
    "    \n"
   ]
  }
 ],
 "metadata": {
  "kernelspec": {
   "display_name": "Python 3",
   "language": "python",
   "name": "python3"
  },
  "language_info": {
   "codemirror_mode": {
    "name": "ipython",
    "version": 3
   },
   "file_extension": ".py",
   "mimetype": "text/x-python",
   "name": "python",
   "nbconvert_exporter": "python",
   "pygments_lexer": "ipython3",
   "version": "3.12.2"
  }
 },
 "nbformat": 4,
 "nbformat_minor": 2
}
