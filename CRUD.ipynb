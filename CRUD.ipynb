{
 "cells": [
  {
   "cell_type": "code",
   "execution_count": 1,
   "metadata": {},
   "outputs": [
    {
     "name": "stdout",
     "output_type": "stream",
     "text": [
      "[]\n",
      "[0, 0, 0, 0, 0]\n"
     ]
    }
   ],
   "source": [
    "#creating a list\n",
    "list1=[]\n",
    "print(list1)\n",
    "list2=[0,0,0,0,0]\n",
    "print(list2)"
   ]
  },
  {
   "cell_type": "code",
   "execution_count": 3,
   "metadata": {},
   "outputs": [
    {
     "name": "stdout",
     "output_type": "stream",
     "text": [
      "[1, 2, 'raja', 4]\n",
      "2093300231488\n",
      "[1, 2, 'raja', 4]\n",
      "2093300231488\n",
      "1\n",
      "3\n",
      "raja\n",
      "j\n"
     ]
    }
   ],
   "source": [
    "#read operation on list\n",
    "#reading a complete list\n",
    "list3=[1,2,\"raja\",4]\n",
    "print(list3)\n",
    "print(id(list3))\n",
    "l=list3\n",
    "print(l)\n",
    "print(id(l))\n",
    "#reading single element\n",
    "print(list3[0])\n",
    "print(list3[0]+list3[1])\n",
    "v=list3[2]\n",
    "print(v)\n",
    "print(list3[2][2])"
   ]
  },
  {
   "cell_type": "code",
   "execution_count": 5,
   "metadata": {},
   "outputs": [
    {
     "name": "stdout",
     "output_type": "stream",
     "text": [
      "2093300294080\n",
      "2093300130560\n",
      "[3, 2, 1, 5]\n",
      "[1, 2, 3]\n",
      "2093300507328\n",
      "[55, 2, 3]\n",
      "2093300507328\n"
     ]
    }
   ],
   "source": [
    "#update operation on list\n",
    "#updation w.r.t variable\n",
    "l1=[1,2,3]\n",
    "print(id(l1))\n",
    "l1=[3,2,1,5]\n",
    "print(id(l1))\n",
    "print(l1)\n",
    "#updatation w.r.t element\n",
    "l2=[1,2,3]\n",
    "print(l2)\n",
    "print(id(l2))\n",
    "l2[0]=55\n",
    "print(l2)\n",
    "print(id(l2))"
   ]
  },
  {
   "cell_type": "code",
   "execution_count": 9,
   "metadata": {},
   "outputs": [
    {
     "ename": "NameError",
     "evalue": "name 'list1' is not defined",
     "output_type": "error",
     "traceback": [
      "\u001b[1;31m---------------------------------------------------------------------------\u001b[0m",
      "\u001b[1;31mNameError\u001b[0m                                 Traceback (most recent call last)",
      "Cell \u001b[1;32mIn[9], line 5\u001b[0m\n\u001b[0;32m      3\u001b[0m list1\u001b[38;5;241m=\u001b[39m[\u001b[38;5;241m1\u001b[39m,\u001b[38;5;241m2\u001b[39m,\u001b[38;5;241m3\u001b[39m]\n\u001b[0;32m      4\u001b[0m \u001b[38;5;28;01mdel\u001b[39;00m list1\n\u001b[1;32m----> 5\u001b[0m \u001b[38;5;28mprint\u001b[39m(\u001b[43mlist1\u001b[49m)\n",
      "\u001b[1;31mNameError\u001b[0m: name 'list1' is not defined"
     ]
    }
   ],
   "source": [
    "#delete operation on list\n",
    "#deleting w.r.t variable\n",
    "list1=[1,2,3]\n",
    "del list1\n",
    "print(list1)\n"
   ]
  },
  {
   "cell_type": "code",
   "execution_count": 10,
   "metadata": {},
   "outputs": [
    {
     "name": "stdout",
     "output_type": "stream",
     "text": [
      "[1, 2, 3]\n"
     ]
    }
   ],
   "source": [
    "#deleting w.r.t variable\n",
    "list2=[1,2,3,4]\n",
    "del list2[-1]\n",
    "print(list2)"
   ]
  }
 ],
 "metadata": {
  "kernelspec": {
   "display_name": "Python 3",
   "language": "python",
   "name": "python3"
  },
  "language_info": {
   "codemirror_mode": {
    "name": "ipython",
    "version": 3
   },
   "file_extension": ".py",
   "mimetype": "text/x-python",
   "name": "python",
   "nbconvert_exporter": "python",
   "pygments_lexer": "ipython3",
   "version": "3.12.2"
  }
 },
 "nbformat": 4,
 "nbformat_minor": 2
}
