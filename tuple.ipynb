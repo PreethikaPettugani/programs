{
 "cells": [
  {
   "cell_type": "code",
   "execution_count": 1,
   "metadata": {},
   "outputs": [
    {
     "name": "stdout",
     "output_type": "stream",
     "text": [
      "(12, 20, 30, 40)\n",
      "<class 'tuple'>\n"
     ]
    }
   ],
   "source": [
    "t=(12,20,30,40)\n",
    "print(t)\n",
    "print(type(t))"
   ]
  },
  {
   "cell_type": "code",
   "execution_count": 2,
   "metadata": {},
   "outputs": [
    {
     "name": "stdout",
     "output_type": "stream",
     "text": [
      "[1, 2, 1, 1, 3, 2, 3]\n",
      "[10, 20, 30, 40, 50]\n"
     ]
    }
   ],
   "source": [
    "#tuple allows duplicate values\n",
    "t=[1,2,1,1,3,2,3]\n",
    "t1=[10,20,\n",
    "   30,\n",
    "   40,50]\n",
    "print(t)\n",
    "print(t1)"
   ]
  },
  {
   "cell_type": "code",
   "execution_count": 3,
   "metadata": {},
   "outputs": [
    {
     "name": "stdout",
     "output_type": "stream",
     "text": [
      "['raja', 'rani', 10, 20]\n"
     ]
    }
   ],
   "source": [
    "#tuple stores object in sequence\n",
    "t=[\"raja\",\"rani\",10,20]\n",
    "print(t)"
   ]
  },
  {
   "cell_type": "code",
   "execution_count": 4,
   "metadata": {},
   "outputs": [
    {
     "name": "stdout",
     "output_type": "stream",
     "text": [
      "20\n",
      "30\n",
      "40\n",
      "10\n"
     ]
    }
   ],
   "source": [
    "#tuple supports indexing\n",
    "t=(10,20,30,40)\n",
    "print(t[1])\n",
    "print(t[2])\n",
    "print(t[3])\n",
    "print(t[0])\n"
   ]
  },
  {
   "cell_type": "code",
   "execution_count": 5,
   "metadata": {},
   "outputs": [
    {
     "name": "stdout",
     "output_type": "stream",
     "text": [
      "1\n",
      "raja\n",
      "r\n"
     ]
    }
   ],
   "source": [
    "t=[1,2,3,\"raja\"]\n",
    "print(t[0])\n",
    "print(t[-1])\n",
    "print(t[3][0])"
   ]
  },
  {
   "cell_type": "code",
   "execution_count": 9,
   "metadata": {},
   "outputs": [
    {
     "name": "stdout",
     "output_type": "stream",
     "text": [
      "50\n",
      "m\n",
      "n\n",
      "dream big\n",
      "b\n"
     ]
    }
   ],
   "source": [
    "t=[50,-250,\"tiger\",\"dream big\",\"coding\"]\n",
    "print(t[0])\n",
    "print(t[3][4])\n",
    "print(t[4][4])\n",
    "print(t[3])\n",
    "print(t[3][6])"
   ]
  },
  {
   "cell_type": "code",
   "execution_count": 10,
   "metadata": {},
   "outputs": [
    {
     "name": "stdout",
     "output_type": "stream",
     "text": [
      "1\n",
      "o\n",
      "d\n",
      "o\n"
     ]
    }
   ],
   "source": [
    "#tuple inside tuple\n",
    "t=((1,2,3),\"hero\",\"don\")\n",
    "print(t[0][0])\n",
    "print(t[1][3])\n",
    "print(t[2][0])\n",
    "print(t[2][1])"
   ]
  }
 ],
 "metadata": {
  "kernelspec": {
   "display_name": "Python 3",
   "language": "python",
   "name": "python3"
  },
  "language_info": {
   "codemirror_mode": {
    "name": "ipython",
    "version": 3
   },
   "file_extension": ".py",
   "mimetype": "text/x-python",
   "name": "python",
   "nbconvert_exporter": "python",
   "pygments_lexer": "ipython3",
   "version": "3.12.2"
  }
 },
 "nbformat": 4,
 "nbformat_minor": 2
}
