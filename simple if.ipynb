{
 "cells": [
  {
   "cell_type": "code",
   "execution_count": 2,
   "metadata": {},
   "outputs": [
    {
     "name": "stdout",
     "output_type": "stream",
     "text": [
      "Hello Good morning\n"
     ]
    }
   ],
   "source": [
    "num=4\n",
    "if num>2:\n",
    "    print(\"Hello Good morning\")"
   ]
  },
  {
   "cell_type": "code",
   "execution_count": 5,
   "metadata": {},
   "outputs": [
    {
     "name": "stdout",
     "output_type": "stream",
     "text": [
      "51\n",
      "11\n",
      "620\n",
      "1.55\n",
      "11\n",
      "1\n",
      "671790528819082282036142601601\n"
     ]
    }
   ],
   "source": [
    "num=31\n",
    "operand2=20\n",
    "if num>30 and num<40:\n",
    "    print(num+operand2)\n",
    "    print(num-operand2)\n",
    "    print(num*operand2)\n",
    "    print(num/operand2)\n",
    "    print(num%operand2)\n",
    "    print(num//operand2)\n",
    "    print(num**operand2)\n"
   ]
  },
  {
   "cell_type": "code",
   "execution_count": 8,
   "metadata": {},
   "outputs": [
    {
     "name": "stdout",
     "output_type": "stream",
     "text": [
      "variable number: 26\n"
     ]
    }
   ],
   "source": [
    "num=6\n",
    "if num%3==0:\n",
    "    sum=num+20\n",
    "    num=sum\n",
    "print(\"variable number:\",num)"
   ]
  },
  {
   "cell_type": "code",
   "execution_count": 13,
   "metadata": {},
   "outputs": [
    {
     "name": "stdout",
     "output_type": "stream",
     "text": [
      "484\n"
     ]
    }
   ],
   "source": [
    "num=22\n",
    "if num%2==0 and num>20:\n",
    "    print(num*num)\n",
    "else:\n",
    "    print(num)"
   ]
  },
  {
   "cell_type": "code",
   "execution_count": 17,
   "metadata": {},
   "outputs": [
    {
     "name": "stdout",
     "output_type": "stream",
     "text": [
      "97\n"
     ]
    }
   ],
   "source": [
    "ch='a'\n",
    "if ch>='A' and ch<='Z' or ch>='a' and ch<='z':\n",
    "    print(ord(ch))"
   ]
  },
  {
   "cell_type": "code",
   "execution_count": 27,
   "metadata": {},
   "outputs": [
    {
     "name": "stdout",
     "output_type": "stream",
     "text": [
      "P\n"
     ]
    }
   ],
   "source": [
    "ch='p'\n",
    "if ch>='a' and ch<='z':\n",
    "    res=ch.upper()\n",
    "    print(res)"
   ]
  },
  {
   "cell_type": "code",
   "execution_count": null,
   "metadata": {},
   "outputs": [],
   "source": []
  },
  {
   "cell_type": "code",
   "execution_count": 45,
   "metadata": {},
   "outputs": [
    {
     "name": "stdout",
     "output_type": "stream",
     "text": [
      "eligible\n"
     ]
    }
   ],
   "source": [
    "age1=18\n",
    "age2=20\n",
    "if age1>=18 and age2>=18:\n",
    "    print(\"eligible\")"
   ]
  },
  {
   "cell_type": "code",
   "execution_count": 49,
   "metadata": {},
   "outputs": [
    {
     "name": "stdout",
     "output_type": "stream",
     "text": [
      "eligible\n"
     ]
    }
   ],
   "source": [
    "age1=20\n",
    "age2=25\n",
    "if  age1>=18 and age2>=21:\n",
    "    print(\"eligible\")"
   ]
  }
 ],
 "metadata": {
  "kernelspec": {
   "display_name": "Python 3",
   "language": "python",
   "name": "python3"
  },
  "language_info": {
   "codemirror_mode": {
    "name": "ipython",
    "version": 3
   },
   "file_extension": ".py",
   "mimetype": "text/x-python",
   "name": "python",
   "nbconvert_exporter": "python",
   "pygments_lexer": "ipython3",
   "version": "3.12.2"
  }
 },
 "nbformat": 4,
 "nbformat_minor": 2
}
