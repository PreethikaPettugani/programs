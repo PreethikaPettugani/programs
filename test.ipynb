{
 "cells": [
  {
   "cell_type": "code",
   "execution_count": 3,
   "metadata": {},
   "outputs": [
    {
     "ename": "KeyboardInterrupt",
     "evalue": "",
     "output_type": "error",
     "traceback": [
      "\u001b[1;31m---------------------------------------------------------------------------\u001b[0m",
      "\u001b[1;31mKeyboardInterrupt\u001b[0m                         Traceback (most recent call last)",
      "Cell \u001b[1;32mIn[3], line 5\u001b[0m\n\u001b[0;32m      3\u001b[0m c\u001b[38;5;241m=\u001b[39m\u001b[38;5;241m0\u001b[39m\n\u001b[0;32m      4\u001b[0m n1\u001b[38;5;241m=\u001b[39mn\n\u001b[1;32m----> 5\u001b[0m \u001b[38;5;28;01mwhile\u001b[39;00m i\u001b[38;5;241m<\u001b[39m\u001b[38;5;241m=\u001b[39mn:\n\u001b[0;32m      6\u001b[0m     digit\u001b[38;5;241m=\u001b[39mn\u001b[38;5;241m%\u001b[39m\u001b[38;5;241m10\u001b[39m\n",
      "\u001b[1;31mKeyboardInterrupt\u001b[0m: "
     ]
    }
   ],
   "source": [
    "n=int(input())\n",
    "i=1\n",
    "c=0\n",
    "n1=n\n",
    "while i<=n:\n",
    "    digit=n%10\n",
    "    \n",
    "    "
   ]
  },
  {
   "cell_type": "code",
   "execution_count": 9,
   "metadata": {},
   "outputs": [
    {
     "name": "stdout",
     "output_type": "stream",
     "text": [
      "15\n",
      "not amstrong\n"
     ]
    }
   ],
   "source": [
    "#2\n",
    "num=int(input())\n",
    "prod=1\n",
    "n=num\n",
    "while num>0:\n",
    "    digit=num%10\n",
    "    prod=prod*digit\n",
    "    num=num//10\n",
    "print(prod)\n",
    "sum=0\n",
    "count=0\n",
    "while n>0:\n",
    "    count=count+1\n",
    "    n=n//10\n",
    "while prod>0:\n",
    "    digit=prod%10\n",
    "    power=digit**count\n",
    "    sum=sum+power\n",
    "    prod=prod//10\n",
    "if sum==prod:\n",
    "    print(\"amstrong\")\n",
    "else:\n",
    "    print(\"not amstrong\")"
   ]
  },
  {
   "cell_type": "code",
   "execution_count": 14,
   "metadata": {},
   "outputs": [
    {
     "ename": "KeyboardInterrupt",
     "evalue": "",
     "output_type": "error",
     "traceback": [
      "\u001b[1;31m---------------------------------------------------------------------------\u001b[0m",
      "\u001b[1;31mKeyboardInterrupt\u001b[0m                         Traceback (most recent call last)",
      "Cell \u001b[1;32mIn[14], line 2\u001b[0m\n\u001b[0;32m      1\u001b[0m n\u001b[38;5;241m=\u001b[39m\u001b[38;5;28mint\u001b[39m(\u001b[38;5;28minput\u001b[39m())\n\u001b[1;32m----> 2\u001b[0m \u001b[38;5;28;01mwhile\u001b[39;00m n\u001b[38;5;241m>\u001b[39m\u001b[38;5;241m0\u001b[39m:\n\u001b[0;32m      3\u001b[0m     lastdigit\u001b[38;5;241m=\u001b[39mn\u001b[38;5;241m%\u001b[39m\u001b[38;5;241m10\u001b[39m\n\u001b[0;32m      4\u001b[0m     i\u001b[38;5;241m=\u001b[39m\u001b[38;5;241m1\u001b[39m\n",
      "\u001b[1;31mKeyboardInterrupt\u001b[0m: "
     ]
    }
   ],
   "source": [
    "n=int(input())\n",
    "while n>0:\n",
    "    lastdigit=n%10\n",
    "    i=1\n",
    "    fact=1\n",
    "    while i==lastdigit:\n",
    "        fact=fact*i\n",
    "if lastdigit%i==0:\n",
    "    print(lastdigit,\"prime number\")\n",
    "else:\n",
    "    print(lastdigit,\"not prime number\")\n"
   ]
  },
  {
   "cell_type": "markdown",
   "metadata": {},
   "source": [
    "1) wap to count the prime digits from the given number\n",
    "2) wap to check the product of digits in the number is amstrong number\n",
    "3) wap to check the count of the digits in a number is a strong number .if it is strong number , then check the lat two    digits of the given number is palindrome or not\n",
    "4) wap to check the summation of prime digits in a number is spy number or not\n",
    "5) wap to check the count of factors in a given number is palindrome or not\n",
    "6) wap to check the factorial of the last digit in a given number is prime or not\n",
    "7) wap to check the given number is a twisted prime or not\n",
    "8) wap to check the given number is a duck number or not\n",
    "9) wap to print first n prime numbers\n"
   ]
  },
  {
   "cell_type": "code",
   "execution_count": 17,
   "metadata": {},
   "outputs": [
    {
     "name": "stdout",
     "output_type": "stream",
     "text": [
      "1\n",
      "2\n",
      "5\n",
      "10\n"
     ]
    }
   ],
   "source": [
    "n=int(input())\n",
    "i=1\n",
    "while n>=i:\n",
    "    if n%i==0:\n",
    "        print(i)\n",
    "    i+=1"
   ]
  }
 ],
 "metadata": {
  "kernelspec": {
   "display_name": "Python 3",
   "language": "python",
   "name": "python3"
  },
  "language_info": {
   "codemirror_mode": {
    "name": "ipython",
    "version": 3
   },
   "file_extension": ".py",
   "mimetype": "text/x-python",
   "name": "python",
   "nbconvert_exporter": "python",
   "pygments_lexer": "ipython3",
   "version": "3.12.2"
  }
 },
 "nbformat": 4,
 "nbformat_minor": 2
}
