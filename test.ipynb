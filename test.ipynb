{
 "cells": [
  {
   "cell_type": "markdown",
   "metadata": {},
   "source": [
    "1) wap to count the prime digits from the given number\n",
    "2) wap to check the product of digits in the number is amstrong number\n",
    "3) wap to check the count of the digits in a number is a strong number .if it is strong number , then check the lat two    digits of the given number is palindrome or not\n",
    "4) wap to check the summation of prime digits in a number is spy number or not\n",
    "5) wap to check the count of factors in a given number is palindrome or not\n",
    "6) wap to check the factorial of the last digit in a given number is prime or not\n",
    "7) wap to check the given number is a twisted prime or not\n",
    "8) wap to check the given number is a duck number or not\n",
    "9) wap to print first n prime numbers\n"
   ]
  },
  {
   "cell_type": "code",
   "execution_count": 9,
   "metadata": {},
   "outputs": [
    {
     "name": "stdout",
     "output_type": "stream",
     "text": [
      "123\n",
      "prime digits: 3\n",
      "prime digits: 2\n",
      "2\n"
     ]
    }
   ],
   "source": [
    "#1\n",
    "n=int(input())\n",
    "count1=0\n",
    "print(n)\n",
    "while n>0:\n",
    "    i=1\n",
    "    count=0\n",
    "    digit=n%10\n",
    "    while i<=digit:\n",
    "        if digit%i==0:\n",
    "            count=count+1\n",
    "        i=i+1\n",
    "    if count==2:\n",
    "        count1=count1+1\n",
    "        print(\"prime digits:\",digit)\n",
    "    count=0\n",
    "    n=n//10\n",
    "print(count1)\n"
   ]
  },
  {
   "cell_type": "code",
   "execution_count": 11,
   "metadata": {},
   "outputs": [
    {
     "name": "stdout",
     "output_type": "stream",
     "text": [
      "15\n",
      "not amstrong\n"
     ]
    }
   ],
   "source": [
    "#2\n",
    "num=int(input())\n",
    "prod=1\n",
    "n=num\n",
    "while num>0:\n",
    "    digit=num%10\n",
    "    prod=prod*digit\n",
    "    num=num//10\n",
    "print(prod)\n",
    "sum=0\n",
    "count=0\n",
    "p1=prod\n",
    "while p1>0:\n",
    "    count=count+1\n",
    "    p1=p1//10\n",
    "p2=prod\n",
    "while p2>0:\n",
    "    digit=prod%10\n",
    "    power=digit**count\n",
    "    sum=sum+power\n",
    "    p2=p2//10\n",
    "if sum==prod:\n",
    "    print(\"amstrong\")\n",
    "else:\n",
    "    print(\"not amstrong\")"
   ]
  },
  {
   "cell_type": "code",
   "execution_count": 4,
   "metadata": {},
   "outputs": [
    {
     "name": "stdout",
     "output_type": "stream",
     "text": [
      "5\n",
      "sum: 120\n",
      "not strong\n",
      "palindrome: 1\n"
     ]
    }
   ],
   "source": [
    "#3\n",
    "n=int(input())\n",
    "y=n\n",
    "count=0\n",
    "sum=0\n",
    "while n>0:\n",
    "    count=count+1\n",
    "    n=n//10\n",
    "print(count)\n",
    "x=count\n",
    "while x>0:\n",
    "    i=1\n",
    "    fact=1\n",
    "    digit=x%10\n",
    "    while i<=digit:\n",
    "        fact=fact*i\n",
    "        i+=1\n",
    "    x=x//10\n",
    "    sum+=fact\n",
    "print(\"sum:\",sum)\n",
    "if sum==count:\n",
    "    print(\"strong\")\n",
    "else:\n",
    "    print(\"not strong\")\n",
    "while y>0:\n",
    "    digit=y%10\n",
    "    z=digit\n",
    "    y=y//10\n",
    "rev=0\n",
    "while z>0:\n",
    "    r=z%10\n",
    "    rev=rev*10+r\n",
    "    z=z//10\n",
    "if digit==rev:\n",
    "    print(\"palindrome:\",digit)\n",
    "else:\n",
    "    print(\"not palindrome\",digit)\n",
    "\n"
   ]
  },
  {
   "cell_type": "code",
   "execution_count": null,
   "metadata": {},
   "outputs": [],
   "source": [
    "#4\n",
    "n=int(input())\n",
    "count1=0\n",
    "sum=o\n",
    "print(n)"
   ]
  },
  {
   "cell_type": "code",
   "execution_count": 14,
   "metadata": {},
   "outputs": [
    {
     "name": "stdout",
     "output_type": "stream",
     "text": [
      "n: 10\n",
      "2\n",
      "3\n",
      "5\n",
      "7\n"
     ]
    }
   ],
   "source": [
    "#9\n",
    "n=int(input())\n",
    "print(\"n:\",n)\n",
    "i=1\n",
    "while i<=n:\n",
    "    count=0\n",
    "    j=1\n",
    "    while j<=i:\n",
    "        if i%j==0:\n",
    "            count=count+1\n",
    "        j=j+1\n",
    "    if count==2:\n",
    "        print(i)\n",
    "    i+=1\n",
    "    "
   ]
  }
 ],
 "metadata": {
  "kernelspec": {
   "display_name": "Python 3",
   "language": "python",
   "name": "python3"
  },
  "language_info": {
   "codemirror_mode": {
    "name": "ipython",
    "version": 3
   },
   "file_extension": ".py",
   "mimetype": "text/x-python",
   "name": "python",
   "nbconvert_exporter": "python",
   "pygments_lexer": "ipython3",
   "version": "3.12.2"
  }
 },
 "nbformat": 4,
 "nbformat_minor": 2
}
