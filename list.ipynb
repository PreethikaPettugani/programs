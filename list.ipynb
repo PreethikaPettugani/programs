{
 "cells": [
  {
   "cell_type": "code",
   "execution_count": 1,
   "metadata": {},
   "outputs": [
    {
     "name": "stdout",
     "output_type": "stream",
     "text": [
      "[12, 20, 30, 40]\n"
     ]
    }
   ],
   "source": [
    "l=[12,20,30,40]\n",
    "print(l)"
   ]
  },
  {
   "cell_type": "code",
   "execution_count": 7,
   "metadata": {},
   "outputs": [
    {
     "name": "stdout",
     "output_type": "stream",
     "text": [
      "[1, 2, 1, 1, 3, 2, 3]\n",
      "[10, 20, 30, 40, 50]\n"
     ]
    }
   ],
   "source": [
    "#list allows duplicate values\n",
    "l=[1,2,1,1,3,2,3]\n",
    "l1=[10,20,\n",
    "   30,\n",
    "   40,50]\n",
    "print(l)\n",
    "print(l1)"
   ]
  },
  {
   "cell_type": "code",
   "execution_count": 4,
   "metadata": {},
   "outputs": [
    {
     "name": "stdout",
     "output_type": "stream",
     "text": [
      "['raja', 'rani', 10, 20]\n"
     ]
    }
   ],
   "source": [
    "#list stores object in sequence\n",
    "l=[\"raja\",\"rani\",10,20]\n",
    "print(l)"
   ]
  },
  {
   "cell_type": "code",
   "execution_count": 9,
   "metadata": {},
   "outputs": [
    {
     "name": "stdout",
     "output_type": "stream",
     "text": [
      "20\n",
      "30\n",
      "40\n",
      "10\n"
     ]
    }
   ],
   "source": [
    "#list supports indexing\n",
    "l=[10,20,30,40]\n",
    "print(l[1])\n",
    "print(l[2])\n",
    "print(l[3])\n",
    "print(l[0])\n"
   ]
  },
  {
   "cell_type": "code",
   "execution_count": 1,
   "metadata": {},
   "outputs": [
    {
     "name": "stdout",
     "output_type": "stream",
     "text": [
      "1\n",
      "raja\n",
      "r\n"
     ]
    }
   ],
   "source": [
    "l=[1,2,3,\"raja\"]\n",
    "print(l[0])\n",
    "print(l[-1])\n",
    "print(l[3][0])\n",
    "\n"
   ]
  },
  {
   "cell_type": "code",
   "execution_count": 2,
   "metadata": {},
   "outputs": [
    {
     "name": "stdout",
     "output_type": "stream",
     "text": [
      "o\n",
      "30\n"
     ]
    }
   ],
   "source": [
    "l=[\"raja\",30,\"hero\"]\n",
    "print(l[2][3])\n",
    "print(l[1])"
   ]
  },
  {
   "cell_type": "code",
   "execution_count": 4,
   "metadata": {},
   "outputs": [
    {
     "name": "stdout",
     "output_type": "stream",
     "text": [
      "50\n",
      "m\n",
      "n\n",
      "b\n"
     ]
    }
   ],
   "source": [
    "l=[50,-250,\"tiger\",\"dream big\",\"coding\"]\n",
    "print(l[0])\n",
    "print(l[3][4])\n",
    "print(l[4][4])\n",
    "print(l[3][6])"
   ]
  },
  {
   "cell_type": "code",
   "execution_count": 8,
   "metadata": {},
   "outputs": [
    {
     "name": "stdout",
     "output_type": "stream",
     "text": [
      "1\n",
      "o\n",
      "d\n",
      "o\n"
     ]
    }
   ],
   "source": [
    "#list inside list\n",
    "l=[[1,2,3],\"hero\",\"don\"]\n",
    "print(l[0][0])\n",
    "print(l[1][3])\n",
    "print(l[2][0])\n",
    "print(l[2][1])\n"
   ]
  }
 ],
 "metadata": {
  "kernelspec": {
   "display_name": "Python 3",
   "language": "python",
   "name": "python3"
  },
  "language_info": {
   "codemirror_mode": {
    "name": "ipython",
    "version": 3
   },
   "file_extension": ".py",
   "mimetype": "text/x-python",
   "name": "python",
   "nbconvert_exporter": "python",
   "pygments_lexer": "ipython3",
   "version": "3.12.2"
  }
 },
 "nbformat": 4,
 "nbformat_minor": 2
}
