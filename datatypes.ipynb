{
 "cells": [
  {
   "cell_type": "code",
   "execution_count": 1,
   "metadata": {},
   "outputs": [
    {
     "name": "stdout",
     "output_type": "stream",
     "text": [
      "10\n",
      "<class 'int'>\n",
      "20\n",
      "<class 'int'>\n"
     ]
    }
   ],
   "source": [
    "a=10\n",
    "b=20\n",
    "print(a)\n",
    "print(type(a))\n",
    "print(b)\n",
    "print(type(b))"
   ]
  },
  {
   "cell_type": "code",
   "execution_count": 2,
   "metadata": {},
   "outputs": [
    {
     "name": "stdout",
     "output_type": "stream",
     "text": [
      "<class 'int'>\n",
      "20\n",
      "<class 'int'>\n",
      "9123412340\n",
      "<class 'float'>\n",
      "54000.0\n"
     ]
    }
   ],
   "source": [
    "age=20\n",
    "phno=9123412340\n",
    "salary=54000.00\n",
    "print(type(age))\n",
    "print(age)\n",
    "print(type(phno))\n",
    "print(phno)\n",
    "print(type(salary))\n",
    "print(salary)"
   ]
  },
  {
   "cell_type": "code",
   "execution_count": 3,
   "metadata": {},
   "outputs": [
    {
     "name": "stdout",
     "output_type": "stream",
     "text": [
      "hello--\n",
      "hello i'm preethika\n",
      "hello im \n",
      "reporter sam,i want to catch a news\n",
      ",so i can telecast tomorrow\n"
     ]
    }
   ],
   "source": [
    "var=\"hello--\"\n",
    "s=\"hello i'm preethika\"\n",
    "sec=\"\"\"hello im \n",
    "reporter sam,i want to catch a news\n",
    ",so i can telecast tomorrow\"\"\"\n",
    "print(var)\n",
    "print(s)\n",
    "print(sec)"
   ]
  }
 ],
 "metadata": {
  "kernelspec": {
   "display_name": "Python 3",
   "language": "python",
   "name": "python3"
  },
  "language_info": {
   "codemirror_mode": {
    "name": "ipython",
    "version": 3
   },
   "file_extension": ".py",
   "mimetype": "text/x-python",
   "name": "python",
   "nbconvert_exporter": "python",
   "pygments_lexer": "ipython3",
   "version": "3.12.2"
  }
 },
 "nbformat": 4,
 "nbformat_minor": 2
}
