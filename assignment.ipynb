{
 "cells": [
  {
   "cell_type": "code",
   "execution_count": 12,
   "metadata": {},
   "outputs": [
    {
     "name": "stdout",
     "output_type": "stream",
     "text": [
      "153 is amstrong\n"
     ]
    }
   ],
   "source": [
    "n=int(input())\n",
    "count=0\n",
    "n1=n\n",
    "num=n\n",
    "sum=0\n",
    "while n>0:\n",
    "    count=count+1\n",
    "    n=n//10\n",
    "while n1>0:\n",
    "    digit=n1%10\n",
    "    power=digit**count\n",
    "    sum=sum+power\n",
    "    n1=n1//10\n",
    "if sum==num:\n",
    "    print(num,\"is amstrong\")\n",
    "else:\n",
    "    print(num,\"is not amstrong\")\n",
    "    \n"
   ]
  },
  {
   "cell_type": "code",
   "execution_count": 2,
   "metadata": {},
   "outputs": [
    {
     "name": "stdout",
     "output_type": "stream",
     "text": [
      "145 is strong number\n"
     ]
    }
   ],
   "source": [
    "n=int(input())\n",
    "sum=0\n",
    "num=n\n",
    "while n>0:\n",
    "    digit=n%10\n",
    "    i=1\n",
    "    fact=1\n",
    "    while i<=digit:\n",
    "        fact=fact*i\n",
    "        i+=1\n",
    "    sum+=fact\n",
    "    n=n//10\n",
    "if sum==num:\n",
    "    print(sum,\"is strong number\")\n",
    "else:\n",
    "    print(sum,\"is not strong number\")\n"
   ]
  },
  {
   "cell_type": "code",
   "execution_count": 9,
   "metadata": {},
   "outputs": [
    {
     "name": "stdout",
     "output_type": "stream",
     "text": [
      "3 is the sunny number\n",
      "4\n"
     ]
    }
   ],
   "source": [
    "num=int(input())\n",
    "num1=num+1\n",
    "i=1\n",
    "while num1>i:\n",
    "    if i*i==num1:\n",
    "        print(num,\"is the sunny number\")\n",
    "        break\n",
    "    i=i+1\n",
    "print(num1)"
   ]
  },
  {
   "cell_type": "code",
   "execution_count": 12,
   "metadata": {},
   "outputs": [
    {
     "name": "stdout",
     "output_type": "stream",
     "text": [
      "0 81 is not tech number\n"
     ]
    }
   ],
   "source": [
    "n=int(input())\n",
    "count=0\n",
    "num=n\n",
    "while n>0:\n",
    "    count=count+1\n",
    "    n=n//10\n",
    "    if count%2==0:\n",
    "        half=count//2\n",
    "        firsthalf=n//10**half\n",
    "        secondhalf=n%10**half\n",
    "        sum=firsthalf+secondhalf\n",
    "if sum*sum==num:\n",
    "    print(sum,num,\"is tech number\")\n",
    "else:\n",
    "    print(sum,num,\"is not tech number\")\n"
   ]
  },
  {
   "cell_type": "code",
   "execution_count": 1,
   "metadata": {},
   "outputs": [
    {
     "name": "stdout",
     "output_type": "stream",
     "text": [
      "not a spy number 0\n"
     ]
    }
   ],
   "source": [
    "n=int(input())\n",
    "sum=0\n",
    "prod=1\n",
    "while n>0:\n",
    "    digit=n%10\n",
    "    n=n//10\n",
    "n1=n\n",
    "while n1>0:\n",
    "    digit=n%10\n",
    "    n1=n1//10\n",
    "if sum==prod:\n",
    "    print(\"spy number\",n)\n",
    "else:\n",
    "    print(\"not a spy number\",n)"
   ]
  }
 ],
 "metadata": {
  "kernelspec": {
   "display_name": "Python 3",
   "language": "python",
   "name": "python3"
  },
  "language_info": {
   "codemirror_mode": {
    "name": "ipython",
    "version": 3
   },
   "file_extension": ".py",
   "mimetype": "text/x-python",
   "name": "python",
   "nbconvert_exporter": "python",
   "pygments_lexer": "ipython3",
   "version": "undefined.undefined.undefined"
  }
 },
 "nbformat": 4,
 "nbformat_minor": 2
}
