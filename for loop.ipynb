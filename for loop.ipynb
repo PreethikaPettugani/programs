{
 "cells": [
  {
   "cell_type": "code",
   "execution_count": 1,
   "metadata": {},
   "outputs": [
    {
     "name": "stdout",
     "output_type": "stream",
     "text": [
      " ABcd@123\n"
     ]
    }
   ],
   "source": [
    "st=\"aBcd@123\"\n",
    "res=\" \"\n",
    "for i in st:\n",
    "    if i in \"aeiouAEIOU\":\n",
    "        if i>=\"A\" and i<=\"Z\":\n",
    "            res=res+chr(ord(i)+32)\n",
    "        else:\n",
    "            res=res+chr(ord(i)-32)\n",
    "    else:\n",
    "        res=res+i\n",
    "print(res)"
   ]
  },
  {
   "cell_type": "code",
   "execution_count": 2,
   "metadata": {},
   "outputs": [
    {
     "name": "stdout",
     "output_type": "stream",
     "text": [
      " AbCD@123\n"
     ]
    }
   ],
   "source": [
    "st=\"aBcd@123\"\n",
    "res=\" \"\n",
    "for i in st:\n",
    "    if i>=\"A\" and i<=\"Z\":\n",
    "        res=res+chr(ord(i)+32)\n",
    "    elif i>=\"a\" and i<=\"z\":\n",
    "        res=res+chr(ord(i)-32)\n",
    "    else:\n",
    "        res=res+i\n",
    "print(res)"
   ]
  },
  {
   "cell_type": "code",
   "execution_count": 2,
   "metadata": {},
   "outputs": [
    {
     "name": "stdout",
     "output_type": "stream",
     "text": [
      " abc\n"
     ]
    }
   ],
   "source": [
    "st=input()\n",
    "res=\" \"\n",
    "for i in st:\n",
    "    if i not in res:\n",
    "        res=res+i\n",
    "    else:\n",
    "        res=res\n",
    "print(res)"
   ]
  },
  {
   "cell_type": "code",
   "execution_count": 4,
   "metadata": {},
   "outputs": [
    {
     "name": "stdout",
     "output_type": "stream",
     "text": [
      "abcxyzkbc123@\n"
     ]
    }
   ],
   "source": [
    "st=\"abc123xyz@kbc\"\n",
    "res=\"\"\n",
    "res1=\"\"\n",
    "res2=\"\"\n",
    "for i in st:\n",
    "    if (i>=\"A\" and i<=\"Z\") or (i>=\"a\" and i<=\"z\"):\n",
    "        res=res+i\n",
    "    elif i>=\"0\" and i<=\"9\":\n",
    "        res1=res1+i\n",
    "    else:\n",
    "        res2=res2+i\n",
    "print(res+res1+res2)"
   ]
  },
  {
   "cell_type": "code",
   "execution_count": 6,
   "metadata": {},
   "outputs": [
    {
     "name": "stdout",
     "output_type": "stream",
     "text": [
      "ihteerp\n"
     ]
    }
   ],
   "source": [
    "st=input()\n",
    "res=\"\"\n",
    "for i in st:\n",
    "    res=i+res\n",
    "print(res)"
   ]
  },
  {
   "cell_type": "code",
   "execution_count": 17,
   "metadata": {},
   "outputs": [
    {
     "name": "stdout",
     "output_type": "stream",
     "text": [
      "a 4\n"
     ]
    }
   ],
   "source": [
    "st=\"abcabaa\"\n",
    "max=\"\"\n",
    "c1=1\n",
    "for i in st:\n",
    "    ch=i\n",
    "    count=0\n",
    "    for j in st:\n",
    "        if ch==j:\n",
    "            count+=1\n",
    "    if count>c1:\n",
    "            c1=count\n",
    "            max=ch\n",
    "print(max,c1)\n",
    "    \n",
    " "
   ]
  },
  {
   "cell_type": "code",
   "execution_count": 21,
   "metadata": {},
   "outputs": [
    {
     "name": "stdout",
     "output_type": "stream",
     "text": [
      "eoo123aii\n"
     ]
    }
   ],
   "source": [
    "st=\"hello world 123 haii\"\n",
    "res=\"\"\n",
    "for i in st:\n",
    "    if i in \"aeiouAEIOU\" or (i>=\"0\" and i<=\"9\"):\n",
    "        res=res+i\n",
    "print(res)\n"
   ]
  },
  {
   "cell_type": "code",
   "execution_count": 27,
   "metadata": {},
   "outputs": [
    {
     "name": "stdout",
     "output_type": "stream",
     "text": [
      "eo o 123 aii\n"
     ]
    }
   ],
   "source": [
    "st=\"hello world 123 haii\"\n",
    "res=\"\"\n",
    "for i in st:\n",
    "    if i in \"aeiouAEIOU\" or (i>=\"0\" and i<=\"9\") or i==\" \":\n",
    "        res=res+i\n",
    "print(res)"
   ]
  },
  {
   "cell_type": "code",
   "execution_count": 28,
   "metadata": {},
   "outputs": [
    {
     "name": "stdout",
     "output_type": "stream",
     "text": [
      "eo o  aii\n"
     ]
    }
   ],
   "source": [
    "st=\"hello world 123 haii\"\n",
    "res=\"\"\n",
    "for i in st:\n",
    "    if i in \"aeiouAEIOU\" or i==\" \":\n",
    "        res=res+i\n",
    "print(res)"
   ]
  },
  {
   "cell_type": "code",
   "execution_count": 32,
   "metadata": {},
   "outputs": [
    {
     "name": "stdout",
     "output_type": "stream",
     "text": [
      "hll wrld\n",
      "eoo\n"
     ]
    }
   ],
   "source": [
    "st=\"hello world\"\n",
    "res=\"\"\n",
    "res1=\"\"\n",
    "for i in st:\n",
    "    if i not in \"aeiouAEIOU\" or i==\" \":\n",
    "        res=res+i\n",
    "    else:\n",
    "        res1=res1+i\n",
    "print(res)\n",
    "print(res1)"
   ]
  },
  {
   "cell_type": "code",
   "execution_count": 41,
   "metadata": {},
   "outputs": [
    {
     "name": "stdout",
     "output_type": "stream",
     "text": [
      "hll wrld\n",
      "eoo\n",
      "12344\n"
     ]
    }
   ],
   "source": [
    "st=\"12hello3 4world4\"\n",
    "res=\"\"\n",
    "res1=\"\"\n",
    "res2=\"\"\n",
    "for i in st:\n",
    "    if (i>=\"A\" and i<=\"Z\") or (i>=\"a\" and i<=\"z\") or i==\" \":\n",
    "        if i not in \"aeiouAEIOU\":\n",
    "            res=res+i\n",
    "        elif i in \"aeiouAEIOU\":\n",
    "            res1=res1+i\n",
    "    else:\n",
    "        res2=res2+i\n",
    "print(res)\n",
    "print(res1)\n",
    "print(res2)"
   ]
  },
  {
   "cell_type": "code",
   "execution_count": 48,
   "metadata": {},
   "outputs": [
    {
     "name": "stdout",
     "output_type": "stream",
     "text": [
      "hllwrld\n",
      "eoo\n",
      "12344\n",
      "(*$$#*)\n"
     ]
    }
   ],
   "source": [
    "st=\"(*12hello3$$4#world4*)\"\n",
    "res=\"\"\n",
    "res1=\"\"\n",
    "res2=\"\"\n",
    "res3=\"\"\n",
    "for i in st:\n",
    "    if (i>=\"A\" and i<=\"Z\") or (i>=\"a\" and i<=\"z\"):\n",
    "        if i not in \"aeiouAEIOU\":\n",
    "            res=res+i\n",
    "        elif i in \"aeiouAEIOU\":\n",
    "            res1=res1+i\n",
    "    elif (i>=\"0\" and i<=\"9\"):\n",
    "        res2=res2+i\n",
    "    else:\n",
    "        res3=res3+i\n",
    "print(res)\n",
    "print(res1)\n",
    "print(res2)\n",
    "print(res3)"
   ]
  },
  {
   "cell_type": "code",
   "execution_count": 2,
   "metadata": {},
   "outputs": [
    {
     "name": "stdout",
     "output_type": "stream",
     "text": [
      ")*#$ $*(,44321,ooe,dlrwllh\n"
     ]
    }
   ],
   "source": [
    "#128 & 131\n",
    "st=\"(*12hello3$ $4#world4*)\"\n",
    "res=\"\"\n",
    "res1=\"\"\n",
    "res2=\"\"\n",
    "res3=\"\"\n",
    "for i in st:\n",
    "    if (i>=\"A\" and i<=\"Z\") or (i>=\"a\" and i<=\"z\"):\n",
    "        if i not in \"aeiouAEIOU\":\n",
    "            res=i+res\n",
    "        elif i in \"aeiouAEIOU\":\n",
    "            res1=i+res1\n",
    "    elif (i>=\"0\" and i<=\"9\"):\n",
    "        res2=i+res2\n",
    "    else: \n",
    "        res3=i+res3\n",
    "print(res3+\",\"+res2+\",\"+res1+\",\"+res)\n",
    "\n"
   ]
  },
  {
   "cell_type": "code",
   "execution_count": 1,
   "metadata": {},
   "outputs": [
    {
     "name": "stdout",
     "output_type": "stream",
     "text": [
      "hllwrld,eoo,12344,(*$ $#*)\n"
     ]
    }
   ],
   "source": [
    "#129\n",
    "st=\"(*12hello3$ $4#world4*)\"\n",
    "res=\"\"\n",
    "res1=\"\"\n",
    "res2=\"\"\n",
    "res3=\"\"\n",
    "for i in st:\n",
    "    if (i>=\"A\" and i<=\"Z\") or (i>=\"a\" and i<=\"z\"):\n",
    "        if i not in \"aeiouAEIOU\":\n",
    "            res=res+i\n",
    "        elif i in \"aeiouAEIOU\":\n",
    "            res1=res1+i\n",
    "    elif (i>=\"0\" and i<=\"9\"):\n",
    "        res2=res2+i\n",
    "    else: \n",
    "        res3=res3+i\n",
    "print(res+\",\"+res1+\",\"+res2+\",\"+res3)"
   ]
  },
  {
   "cell_type": "code",
   "execution_count": 55,
   "metadata": {},
   "outputs": [
    {
     "name": "stdout",
     "output_type": "stream",
     "text": [
      "hllwrld,)*#$ $*(,eoo,44321\n"
     ]
    }
   ],
   "source": [
    "#130\n",
    "st=\"(*12hello3$ $4#world4*)\"\n",
    "res=\"\"\n",
    "res1=\"\"\n",
    "res2=\"\"\n",
    "res3=\"\"\n",
    "for i in st:\n",
    "    if (i>=\"A\" and i<=\"Z\") or (i>=\"a\" and i<=\"z\"):\n",
    "        if i not in \"aeiouAEIOU\":\n",
    "            res=res+i\n",
    "        elif i in \"aeiouAEIOU\":\n",
    "            res1=res1+i\n",
    "    elif (i>=\"0\" and i<=\"9\"):\n",
    "        res2=i+res2\n",
    "    else: \n",
    "        res3=i+res3\n",
    "print(res+\",\"+res3+\",\"+res1+\",\"+res2)"
   ]
  },
  {
   "cell_type": "code",
   "execution_count": 54,
   "metadata": {},
   "outputs": [
    {
     "name": "stdout",
     "output_type": "stream",
     "text": [
      "dlrwllh)*#$ $*(ooe44321\n"
     ]
    }
   ],
   "source": [
    "#132\n",
    "st=\"(*12hello3$ $4#world4*)\"\n",
    "res=\"\"\n",
    "res1=\"\"\n",
    "res2=\"\"\n",
    "res3=\"\"\n",
    "for i in st:\n",
    "    if (i>=\"A\" and i<=\"Z\") or (i>=\"a\" and i<=\"z\"):\n",
    "        if i not in \"aeiouAEIOU\":\n",
    "            res=i+res\n",
    "        elif i in \"aeiouAEIOU\":\n",
    "            res1=i+res1\n",
    "    elif (i>=\"0\" and i<=\"9\"):\n",
    "        res2=i+res2\n",
    "    elif not((i>=\"A\" and i<=\"Z\") or (i>=\"a\" and i<=\"z\") or (i>=\"0\" and i<=\"9\")): \n",
    "        res3=i+res3\n",
    "print(res+res3+res1+res2)"
   ]
  },
  {
   "cell_type": "code",
   "execution_count": 1,
   "metadata": {},
   "outputs": [
    {
     "name": "stdout",
     "output_type": "stream",
     "text": [
      "h$ll*w*rld\n"
     ]
    }
   ],
   "source": [
    "#133\n",
    "st=\"HELLOWORLD\"\n",
    "res=\"\"\n",
    "for i in st:\n",
    "    if (i>=\"A\" and i<=\"Z\") or (i>=\"a\" and i<=\"z\"):\n",
    "        if i not in \"aeiouAEIOU\":\n",
    "            res=res+chr(ord(i)+32)\n",
    "        elif i in \"aeiouAEIOU\":\n",
    "            if i==\"E\":\n",
    "                res=res+\"$\"\n",
    "            elif i==\"O\":\n",
    "                res=res+\"*\"\n",
    "print(res)"
   ]
  },
  {
   "cell_type": "code",
   "execution_count": 15,
   "metadata": {},
   "outputs": [
    {
     "name": "stdout",
     "output_type": "stream",
     "text": [
      "hllwrld21\n"
     ]
    }
   ],
   "source": [
    "#134\n",
    "st=\"123HELLO WORLD456\"\n",
    "res=\"\"\n",
    "sum=0\n",
    "for i in st:\n",
    "    if (i>=\"A\" and i<=\"Z\") or (i>=\"a\" and i<=\"z\"):\n",
    "        if i not in \"aeiouAEIOU\":\n",
    "            res=res+chr(ord(i)+32)\n",
    "    elif i>=\"0\" and i<=\"9\":\n",
    "        sum=sum+int(i)\n",
    "print(res+str(sum))\n",
    "\n"
   ]
  },
  {
   "cell_type": "code",
   "execution_count": 24,
   "metadata": {},
   "outputs": [
    {
     "name": "stdout",
     "output_type": "stream",
     "text": [
      "123hEllO wOrld456\n"
     ]
    }
   ],
   "source": [
    "#135\n",
    "st=\"123HELLO WORLD456\"\n",
    "res=\"\"\n",
    "for i in st:\n",
    "    if (i>=\"A\" and i<=\"Z\") or (i>=\"a\" and i<=\"z\"):\n",
    "        if i not in \"AEIOU\":\n",
    "            res=res+chr(ord(i)+32)\n",
    "        else:\n",
    "            res=res+i\n",
    "    elif i>=\"0\" and i<=\"9\":\n",
    "        res=res+i\n",
    "    elif i==\" \":\n",
    "        res=res+i\n",
    "print(res)"
   ]
  },
  {
   "cell_type": "code",
   "execution_count": 35,
   "metadata": {},
   "outputs": [
    {
     "name": "stdout",
     "output_type": "stream",
     "text": [
      "321hEllO wOrld654\n"
     ]
    }
   ],
   "source": [
    "#136\n",
    "st=\"123HELLO WORLD456\"\n",
    "res=\"\"\n",
    "res1=\"\"\n",
    "res2=\"\"\n",
    "for i in st:\n",
    "    if (i>=\"A\" and i<=\"Z\") or (i>=\"a\" and i<=\"z\"):\n",
    "        if i not in \"AEIOU\":\n",
    "            res=res+chr(ord(i)+32)\n",
    "        else:\n",
    "            res=res+i\n",
    "    elif i>=\"0\" and i<=\"3\":\n",
    "        res1=i+res1\n",
    "    elif i>=\"4\" and i<=\"9\":\n",
    "        res2=i+res2\n",
    "    elif i==\" \":\n",
    "        res=res+i\n",
    "print(res1+res+res2)\n",
    "\n",
    "\n"
   ]
  },
  {
   "cell_type": "code",
   "execution_count": 34,
   "metadata": {},
   "outputs": [
    {
     "name": "stdout",
     "output_type": "stream",
     "text": [
      "321*E**O *O***654\n"
     ]
    }
   ],
   "source": [
    "#137\n",
    "st=\"123HELLO WORLD456\"\n",
    "res=\"\"\n",
    "res1=\"\"\n",
    "res2=\"\"\n",
    "for i in st:\n",
    "    if (i>=\"A\" and i<=\"Z\") or (i>=\"a\" and i<=\"z\"):\n",
    "        if i not in \"aeiouAEIOU\":\n",
    "            res=res+\"*\"\n",
    "        elif i in \"aeiouAEIOU\":\n",
    "            res=res+i\n",
    "    elif i>=\"0\" and i<=\"3\":\n",
    "        res1=i+res1\n",
    "    elif i>=\"4\" and i<=\"9\":\n",
    "        res2=i+res2\n",
    "    elif i==\" \":\n",
    "        res=res+i\n",
    "print(res1+res+res2)"
   ]
  },
  {
   "cell_type": "code",
   "execution_count": 27,
   "metadata": {},
   "outputs": [
    {
     "name": "stdout",
     "output_type": "stream",
     "text": [
      "123*E**O *O***456\n"
     ]
    }
   ],
   "source": [
    "#138\n",
    "st=\"123HELLO WORLD456\"\n",
    "res=\"\"\n",
    "for i in st:\n",
    "    if (i>=\"A\" and i<=\"Z\") or (i>=\"a\" and i<=\"z\"):\n",
    "        if i not in \"aeiouAEIOU\":\n",
    "            res=res+\"*\"\n",
    "        elif i in \"aeiouAEIOU\":\n",
    "            res=res+i\n",
    "    elif i>=\"0\" and i<=\"9\":\n",
    "        res=res+i\n",
    "    elif i==\" \":\n",
    "        res=res+i\n",
    "print(res)\n"
   ]
  },
  {
   "cell_type": "code",
   "execution_count": 50,
   "metadata": {},
   "outputs": [
    {
     "name": "stdout",
     "output_type": "stream",
     "text": [
      "axbycz\n"
     ]
    }
   ],
   "source": [
    "#140\n",
    "st1=\"abc\"\n",
    "st2=\"xyz\"\n",
    "res=\"\"\n",
    "for i in st1:\n",
    "    res=res+i\n",
    "    for j in st2:\n",
    "        if j in res:\n",
    "            res=res\n",
    "        else:\n",
    "            res=res+j\n",
    "            break \n",
    "print(res)\n"
   ]
  },
  {
   "cell_type": "code",
   "execution_count": 14,
   "metadata": {},
   "outputs": [
    {
     "name": "stdout",
     "output_type": "stream",
     "text": [
      " axbyczw\n"
     ]
    }
   ],
   "source": [
    "#141\n",
    "st1=\"abc\"\n",
    "st2=\"xyzw\"\n",
    "n1=len(st1)\n",
    "n2=len(st2)\n",
    "res=\" \"\n",
    "great=n2\n",
    "small=n1\n",
    "if n1>n2:\n",
    "    great=n1\n",
    "    small=n2\n",
    "i=0\n",
    "while i<great:\n",
    "    if i<small:\n",
    "        res=res+st1[i]+st2[i]\n",
    "    else:\n",
    "        res=res+st2[i]\n",
    "    i+=1\n",
    "print(res)"
   ]
  },
  {
   "cell_type": "code",
   "execution_count": 13,
   "metadata": {},
   "outputs": [
    {
     "name": "stdout",
     "output_type": "stream",
     "text": [
      " axbyczd\n"
     ]
    }
   ],
   "source": [
    "#142\n",
    "st1=\"abcd\"\n",
    "st2=\"xyz\"\n",
    "n1=len(st1)\n",
    "n2=len(st2)\n",
    "res=\" \"\n",
    "great=n2\n",
    "small=n1\n",
    "if n1>n2:\n",
    "    great=n1\n",
    "    small=n2\n",
    "i=0\n",
    "while i<great:\n",
    "    if i<small:\n",
    "        res=res+st1[i]+st2[i]\n",
    "    else:\n",
    "        res=res+st1[i]\n",
    "    i+=1\n",
    "print(res)\n"
   ]
  },
  {
   "cell_type": "code",
   "execution_count": 15,
   "metadata": {},
   "outputs": [
    {
     "name": "stdout",
     "output_type": "stream",
     "text": [
      " axbyczwop\n"
     ]
    }
   ],
   "source": [
    "#143\n",
    "st1=\"abc\"\n",
    "st2=\"xyzwop\"\n",
    "n1=len(st1)\n",
    "n2=len(st2)\n",
    "res=\" \"\n",
    "great=n2\n",
    "small=n1\n",
    "if n1>n2:\n",
    "    great=n1\n",
    "    small=n2\n",
    "i=0\n",
    "while i<great:\n",
    "    if i<small:\n",
    "        res=res+st1[i]+st2[i]\n",
    "    else:\n",
    "        res=res+st2[i]\n",
    "    i+=1\n",
    "print(res)"
   ]
  },
  {
   "cell_type": "code",
   "execution_count": 28,
   "metadata": {},
   "outputs": [
    {
     "name": "stdout",
     "output_type": "stream",
     "text": [
      "a1b2c3\n"
     ]
    }
   ],
   "source": [
    "#144\n",
    "st=\"abc123\"\n",
    "alp=\"\"\n",
    "digit=\"\"\n",
    "res=\"\"\n",
    "for i in st:\n",
    "    if (i>=\"a\" and i<=\"z\") or (i>=\"A\" and i<=\"Z\"):\n",
    "        alp=alp+i\n",
    "    else:\n",
    "        digit=digit+i\n",
    "for j in alp:\n",
    "    res=res+j\n",
    "    for k in digit:\n",
    "        if k in res:\n",
    "            res=res\n",
    "        else:\n",
    "            res=res+k\n",
    "            break\n",
    "print(res)"
   ]
  },
  {
   "cell_type": "code",
   "execution_count": 42,
   "metadata": {},
   "outputs": [
    {
     "name": "stdout",
     "output_type": "stream",
     "text": [
      "a1b2c\n"
     ]
    }
   ],
   "source": [
    "#145\n",
    "st=\"abc12\"\n",
    "alp=\"\"\n",
    "digit=\"\"\n",
    "res=\"\"\n",
    "for i in st:\n",
    "    if (i>=\"a\" and i<=\"z\") or (i>=\"A\" and i<=\"Z\"):\n",
    "        alp=alp+i\n",
    "    else:\n",
    "        digit=digit+i\n",
    "for j in alp:\n",
    "    res=res+j\n",
    "    for k in digit:\n",
    "        if k in res:\n",
    "            res=res\n",
    "        else:\n",
    "            res=res+k\n",
    "            break\n",
    "print(res)"
   ]
  },
  {
   "cell_type": "code",
   "execution_count": 40,
   "metadata": {},
   "outputs": [
    {
     "name": "stdout",
     "output_type": "stream",
     "text": [
      "a1b2c34\n"
     ]
    }
   ],
   "source": [
    "#146\n",
    "st=\"abc1234\"\n",
    "alp=\"\"\n",
    "digit=\"\"\n",
    "res=\"\"\n",
    "for i in st:\n",
    "    if (i>=\"a\" and i<=\"z\") or (i>=\"A\" and i<=\"Z\"):\n",
    "        alp=alp+i\n",
    "    else:\n",
    "        digit=digit+i\n",
    "for j in digit:\n",
    "    for k in alp:\n",
    "        if k in res:\n",
    "            res=res\n",
    "        else:\n",
    "            res=res+k\n",
    "            break\n",
    "    res=res+j\n",
    "print(res)"
   ]
  },
  {
   "cell_type": "code",
   "execution_count": 44,
   "metadata": {},
   "outputs": [
    {
     "name": "stdout",
     "output_type": "stream",
     "text": [
      "a1b2c34\n"
     ]
    }
   ],
   "source": [
    "#147\n",
    "st=\"1a2bc34\"\n",
    "alp=\"\"\n",
    "digit=\"\"\n",
    "res=\"\"\n",
    "for i in st:\n",
    "    if (i>=\"a\" and i<=\"z\") or (i>=\"A\" and i<=\"Z\"):\n",
    "        alp=alp+i\n",
    "    else:\n",
    "        digit=digit+i\n",
    "for j in digit:\n",
    "    for k in alp:\n",
    "        if k in res:\n",
    "            res=res\n",
    "        else:\n",
    "            res=res+k\n",
    "            break\n",
    "    res=res+j\n",
    "print(res)\n",
    "    "
   ]
  },
  {
   "cell_type": "code",
   "execution_count": 52,
   "metadata": {},
   "outputs": [
    {
     "name": "stdout",
     "output_type": "stream",
     "text": [
      "3\n"
     ]
    }
   ],
   "source": [
    "#148\n",
    "st=\"abcdnmpoijkl12yzabcd5\"\n",
    "count=0\n",
    "for i in st:\n",
    "    if i>=\"0\" and i<=\"9\":\n",
    "        count=count+1\n",
    "print(count)\n",
    "\n"
   ]
  },
  {
   "cell_type": "code",
   "execution_count": 61,
   "metadata": {},
   "outputs": [
    {
     "name": "stdout",
     "output_type": "stream",
     "text": [
      "HA1I2I3 HE4LLO5\n"
     ]
    }
   ],
   "source": [
    "#149\n",
    "st=\"HAII HELLO\"\n",
    "i=0\n",
    "j=1\n",
    "res=\"\"\n",
    "while i<len(st):\n",
    "    if st[i] in \"aeiouAEIOU\":\n",
    "        res=res+st[i]+str(j)\n",
    "        j+=1\n",
    "    else:\n",
    "        res=res+st[i]\n",
    "    i+=1\n",
    "print(res)"
   ]
  },
  {
   "cell_type": "code",
   "execution_count": 62,
   "metadata": {},
   "outputs": [
    {
     "name": "stdout",
     "output_type": "stream",
     "text": [
      "H1AII 2H3EL4L5O\n"
     ]
    }
   ],
   "source": [
    "#150\n",
    "st=\"HAII HELLO\"\n",
    "i=0\n",
    "j=1\n",
    "res=\"\"\n",
    "while i<len(st):\n",
    "    if st[i] not in \"aeiouAEIOU\":\n",
    "        res=res+st[i]+str(j)\n",
    "        j+=1\n",
    "    else:\n",
    "        res=res+st[i]\n",
    "    i+=1\n",
    "print(res)"
   ]
  },
  {
   "cell_type": "code",
   "execution_count": null,
   "metadata": {},
   "outputs": [],
   "source": [
    "#151\n",
    "l=[\"python\",\"apple\",\"hi\",\"orange\",\"hello\"]\n",
    "i=0\n",
    "while l==st:\n",
    "    if len(st)%2==1:\n",
    "        \n",
    "        \n",
    "\n"
   ]
  },
  {
   "cell_type": "markdown",
   "metadata": {},
   "source": [
    "for loop using list"
   ]
  },
  {
   "cell_type": "code",
   "execution_count": 1,
   "metadata": {},
   "outputs": [
    {
     "name": "stdout",
     "output_type": "stream",
     "text": [
      "[1, 2, 3, 4, 5, 6]\n"
     ]
    }
   ],
   "source": [
    "#2\n",
    "li=[1,2,3]\n",
    "li1=[4,5,6]\n",
    "print(li+li1)\n",
    "\n"
   ]
  },
  {
   "cell_type": "code",
   "execution_count": 2,
   "metadata": {},
   "outputs": [
    {
     "name": "stdout",
     "output_type": "stream",
     "text": [
      "10\n",
      "-10\n",
      "24\n"
     ]
    }
   ],
   "source": [
    "#3\n",
    "li=[1,2,3,4]\n",
    "sum=0\n",
    "sub=0\n",
    "prod=1\n",
    "for i  in li:\n",
    "    sum+=i\n",
    "print(sum)\n",
    "for i in li:\n",
    "    sub-=i\n",
    "print(sub)\n",
    "for i in li:\n",
    "    prod*=i\n",
    "print(prod)\n"
   ]
  },
  {
   "cell_type": "code",
   "execution_count": 10,
   "metadata": {},
   "outputs": [
    {
     "name": "stdout",
     "output_type": "stream",
     "text": [
      "[4, 5, 6]\n",
      "[4, 5, 6]\n"
     ]
    }
   ],
   "source": [
    "#5\n",
    "li=[1,2,3,4,5]\n",
    "li=li1\n",
    "print(li)\n",
    "print(li1)"
   ]
  },
  {
   "cell_type": "code",
   "execution_count": 6,
   "metadata": {},
   "outputs": [
    {
     "name": "stdout",
     "output_type": "stream",
     "text": [
      "even 2\n",
      "odd 3\n"
     ]
    }
   ],
   "source": [
    "#6\n",
    "li=[1,2,3,4,5]\n",
    "count=0\n",
    "count1=0\n",
    "for i in li:\n",
    "    if i%2==0:\n",
    "        count+=1\n",
    "    if i%2==1:\n",
    "        count1+=1\n",
    "print(\"even\",count)\n",
    "print(\"odd\",count1)\n"
   ]
  },
  {
   "cell_type": "code",
   "execution_count": 8,
   "metadata": {},
   "outputs": [
    {
     "name": "stdout",
     "output_type": "stream",
     "text": [
      "positive 4\n",
      "negative 2\n"
     ]
    }
   ],
   "source": [
    "#7\n",
    "li=[1,2,-3,4,5,-1,]\n",
    "count=0\n",
    "count1=0\n",
    "for i in li:\n",
    "    if i>0:\n",
    "        count+=1\n",
    "    if i<0:\n",
    "        count1+=1\n",
    "print(\"positive\",count)\n",
    "print(\"negative\",count1)"
   ]
  },
  {
   "cell_type": "code",
   "execution_count": 9,
   "metadata": {},
   "outputs": [
    {
     "name": "stdout",
     "output_type": "stream",
     "text": [
      "6\n"
     ]
    }
   ],
   "source": [
    "#10\n",
    "li=[1,2,3,4,5,6]\n",
    "print(len(li))\n"
   ]
  },
  {
   "cell_type": "code",
   "execution_count": 16,
   "metadata": {},
   "outputs": [
    {
     "name": "stdout",
     "output_type": "stream",
     "text": [
      "4\n",
      "5\n"
     ]
    }
   ],
   "source": [
    "#11\n",
    "li=[1,2,3,4]\n",
    "li1=[1,2,3,5]\n",
    "for i in li:\n",
    "    for j in li1:\n",
    "        if i!=j:\n",
    "            res=i\n",
    "            res1=j\n",
    "print(res)\n",
    "print(res1)\n",
    "\n"
   ]
  },
  {
   "cell_type": "code",
   "execution_count": 11,
   "metadata": {},
   "outputs": [
    {
     "name": "stdout",
     "output_type": "stream",
     "text": [
      "[5, 7, 8, 11, 13]\n"
     ]
    }
   ],
   "source": [
    "l=[2,4,5,8,10]\n",
    "res=[]\n",
    "for i in l:\n",
    "    res=res+[i+3]\n",
    "print(res)\n"
   ]
  },
  {
   "cell_type": "code",
   "execution_count": 29,
   "metadata": {},
   "outputs": [
    {
     "name": "stdout",
     "output_type": "stream",
     "text": [
      "[8, 7, 6, 3, 2]\n"
     ]
    }
   ],
   "source": [
    "l=[2,3,6,7,8]\n",
    "res=[]\n",
    "for i in l:\n",
    "    res=[i]+res\n",
    "print(res)\n"
   ]
  },
  {
   "cell_type": "code",
   "execution_count": 39,
   "metadata": {},
   "outputs": [
    {
     "name": "stdout",
     "output_type": "stream",
     "text": [
      "[4, 8, 6, 7, 3, 2]\n",
      "6 6 perfect number\n"
     ]
    }
   ],
   "source": [
    "l=[2,3,7,6,8,4]\n",
    "res=[]\n",
    "for i in l:\n",
    "    res=[i]+res\n",
    "print(res)\n",
    "l1=res\n",
    "mid=len(l1)//2\n",
    "sum=0\n",
    "i=1\n",
    "while i<l[mid]:\n",
    "    if l[mid]%i==0:\n",
    "        sum=sum+i\n",
    "    i+=1\n",
    "if sum==l[mid]:\n",
    "    print(l[mid],sum,\"perfect number\")\n",
    "else:\n",
    "    print(l[mid],sum,\"not a perfect number\")\n",
    "\n"
   ]
  },
  {
   "cell_type": "code",
   "execution_count": 59,
   "metadata": {},
   "outputs": [
    {
     "name": "stdout",
     "output_type": "stream",
     "text": [
      "length: 3\n",
      "2\n",
      "prime number\n"
     ]
    }
   ],
   "source": [
    "l=[2,2,5,6,6]\n",
    "res=[]\n",
    "for i in l:\n",
    "    if i not in res:\n",
    "        res=res+[i]\n",
    "length=len(res)\n",
    "print(\"length:\",length)\n",
    "c=0\n",
    "i=1\n",
    "while i<=length:\n",
    "    if length%i==0:\n",
    "        c+=1\n",
    "    i+=1\n",
    "print(c)\n",
    "if c==2:\n",
    "    print(\"prime number\")\n",
    "else:\n",
    "    print(\"not prime number\")"
   ]
  },
  {
   "cell_type": "code",
   "execution_count": 62,
   "metadata": {},
   "outputs": [
    {
     "name": "stdout",
     "output_type": "stream",
     "text": [
      "[2, 6, 8]\n"
     ]
    }
   ],
   "source": [
    "l=[2,3,5,6,7,8]\n",
    "res=[]\n",
    "for i in l:\n",
    "    if i%2!=1:\n",
    "        res=res+[i]\n",
    "print(res)"
   ]
  }
 ],
 "metadata": {
  "kernelspec": {
   "display_name": "Python 3",
   "language": "python",
   "name": "python3"
  },
  "language_info": {
   "codemirror_mode": {
    "name": "ipython",
    "version": 3
   },
   "file_extension": ".py",
   "mimetype": "text/x-python",
   "name": "python",
   "nbconvert_exporter": "python",
   "pygments_lexer": "ipython3",
   "version": "3.12.2"
  }
 },
 "nbformat": 4,
 "nbformat_minor": 2
}
