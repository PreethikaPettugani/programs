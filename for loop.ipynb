{
 "cells": [
  {
   "cell_type": "code",
   "execution_count": 1,
   "metadata": {},
   "outputs": [
    {
     "name": "stdout",
     "output_type": "stream",
     "text": [
      " ABcd@123\n"
     ]
    }
   ],
   "source": [
    "st=\"aBcd@123\"\n",
    "res=\" \"\n",
    "for i in st:\n",
    "    if i in \"aeiouAEIOU\":\n",
    "        if i>=\"A\" and i<=\"Z\":\n",
    "            res=res+chr(ord(i)+32)\n",
    "        else:\n",
    "            res=res+chr(ord(i)-32)\n",
    "    else:\n",
    "        res=res+i\n",
    "print(res)"
   ]
  },
  {
   "cell_type": "code",
   "execution_count": 2,
   "metadata": {},
   "outputs": [
    {
     "name": "stdout",
     "output_type": "stream",
     "text": [
      " AbCD@123\n"
     ]
    }
   ],
   "source": [
    "st=\"aBcd@123\"\n",
    "res=\" \"\n",
    "for i in st:\n",
    "    if i>=\"A\" and i<=\"Z\":\n",
    "        res=res+chr(ord(i)+32)\n",
    "    elif i>=\"a\" and i<=\"z\":\n",
    "        res=res+chr(ord(i)-32)\n",
    "    else:\n",
    "        res=res+i\n",
    "print(res)"
   ]
  },
  {
   "cell_type": "code",
   "execution_count": 2,
   "metadata": {},
   "outputs": [
    {
     "name": "stdout",
     "output_type": "stream",
     "text": [
      " abc\n"
     ]
    }
   ],
   "source": [
    "st=input()\n",
    "res=\" \"\n",
    "for i in st:\n",
    "    if i not in res:\n",
    "        res=res+i\n",
    "    else:\n",
    "        res=res\n",
    "print(res)"
   ]
  },
  {
   "cell_type": "code",
   "execution_count": 4,
   "metadata": {},
   "outputs": [
    {
     "name": "stdout",
     "output_type": "stream",
     "text": [
      "abcxyzkbc123@\n"
     ]
    }
   ],
   "source": [
    "st=\"abc123xyz@kbc\"\n",
    "res=\"\"\n",
    "res1=\"\"\n",
    "res2=\"\"\n",
    "for i in st:\n",
    "    if (i>=\"A\" and i<=\"Z\") or (i>=\"a\" and i<=\"z\"):\n",
    "        res=res+i\n",
    "    elif i>=\"0\" and i<=\"9\":\n",
    "        res1=res1+i\n",
    "    else:\n",
    "        res2=res2+i\n",
    "print(res+res1+res2)"
   ]
  },
  {
   "cell_type": "code",
   "execution_count": 6,
   "metadata": {},
   "outputs": [
    {
     "name": "stdout",
     "output_type": "stream",
     "text": [
      "ihteerp\n"
     ]
    }
   ],
   "source": [
    "st=input()\n",
    "res=\"\"\n",
    "for i in st:\n",
    "    res=i+res\n",
    "print(res)"
   ]
  },
  {
   "cell_type": "code",
   "execution_count": 17,
   "metadata": {},
   "outputs": [
    {
     "name": "stdout",
     "output_type": "stream",
     "text": [
      "a 4\n"
     ]
    }
   ],
   "source": [
    "st=\"abcabaa\"\n",
    "max=\"\"\n",
    "c1=1\n",
    "for i in st:\n",
    "    ch=i\n",
    "    count=0\n",
    "    for j in st:\n",
    "        if ch==j:\n",
    "            count+=1\n",
    "    if count>c1:\n",
    "            c1=count\n",
    "            max=ch\n",
    "print(max,c1)\n",
    "    \n",
    " "
   ]
  },
  {
   "cell_type": "code",
   "execution_count": 21,
   "metadata": {},
   "outputs": [
    {
     "name": "stdout",
     "output_type": "stream",
     "text": [
      "eoo123aii\n"
     ]
    }
   ],
   "source": [
    "st=\"hello world 123 haii\"\n",
    "res=\"\"\n",
    "for i in st:\n",
    "    if i in \"aeiouAEIOU\" or (i>=\"0\" and i<=\"9\"):\n",
    "        res=res+i\n",
    "print(res)\n"
   ]
  },
  {
   "cell_type": "code",
   "execution_count": 27,
   "metadata": {},
   "outputs": [
    {
     "name": "stdout",
     "output_type": "stream",
     "text": [
      "eo o 123 aii\n"
     ]
    }
   ],
   "source": [
    "st=\"hello world 123 haii\"\n",
    "res=\"\"\n",
    "for i in st:\n",
    "    if i in \"aeiouAEIOU\" or (i>=\"0\" and i<=\"9\") or i==\" \":\n",
    "        res=res+i\n",
    "print(res)"
   ]
  },
  {
   "cell_type": "code",
   "execution_count": 28,
   "metadata": {},
   "outputs": [
    {
     "name": "stdout",
     "output_type": "stream",
     "text": [
      "eo o  aii\n"
     ]
    }
   ],
   "source": [
    "st=\"hello world 123 haii\"\n",
    "res=\"\"\n",
    "for i in st:\n",
    "    if i in \"aeiouAEIOU\" or i==\" \":\n",
    "        res=res+i\n",
    "print(res)"
   ]
  },
  {
   "cell_type": "code",
   "execution_count": 32,
   "metadata": {},
   "outputs": [
    {
     "name": "stdout",
     "output_type": "stream",
     "text": [
      "hll wrld\n",
      "eoo\n"
     ]
    }
   ],
   "source": [
    "st=\"hello world\"\n",
    "res=\"\"\n",
    "res1=\"\"\n",
    "for i in st:\n",
    "    if i not in \"aeiouAEIOU\" or i==\" \":\n",
    "        res=res+i\n",
    "    else:\n",
    "        res1=res1+i\n",
    "print(res)\n",
    "print(res1)"
   ]
  },
  {
   "cell_type": "code",
   "execution_count": 41,
   "metadata": {},
   "outputs": [
    {
     "name": "stdout",
     "output_type": "stream",
     "text": [
      "hll wrld\n",
      "eoo\n",
      "12344\n"
     ]
    }
   ],
   "source": [
    "st=\"12hello3 4world4\"\n",
    "res=\"\"\n",
    "res1=\"\"\n",
    "res2=\"\"\n",
    "for i in st:\n",
    "    if (i>=\"A\" and i<=\"Z\") or (i>=\"a\" and i<=\"z\") or i==\" \":\n",
    "        if i not in \"aeiouAEIOU\":\n",
    "            res=res+i\n",
    "        elif i in \"aeiouAEIOU\":\n",
    "            res1=res1+i\n",
    "    else:\n",
    "        res2=res2+i\n",
    "print(res)\n",
    "print(res1)\n",
    "print(res2)"
   ]
  },
  {
   "cell_type": "code",
   "execution_count": 48,
   "metadata": {},
   "outputs": [
    {
     "name": "stdout",
     "output_type": "stream",
     "text": [
      "hllwrld\n",
      "eoo\n",
      "12344\n",
      "(*$$#*)\n"
     ]
    }
   ],
   "source": [
    "st=\"(*12hello3$$4#world4*)\"\n",
    "res=\"\"\n",
    "res1=\"\"\n",
    "res2=\"\"\n",
    "res3=\"\"\n",
    "for i in st:\n",
    "    if (i>=\"A\" and i<=\"Z\") or (i>=\"a\" and i<=\"z\"):\n",
    "        if i not in \"aeiouAEIOU\":\n",
    "            res=res+i\n",
    "        elif i in \"aeiouAEIOU\":\n",
    "            res1=res1+i\n",
    "    elif (i>=\"0\" and i<=\"9\"):\n",
    "        res2=res2+i\n",
    "    else:\n",
    "        res3=res3+i\n",
    "print(res)\n",
    "print(res1)\n",
    "print(res2)\n",
    "print(res3)"
   ]
  },
  {
   "cell_type": "code",
   "execution_count": 2,
   "metadata": {},
   "outputs": [
    {
     "name": "stdout",
     "output_type": "stream",
     "text": [
      ")*#$ $*(,44321,ooe,dlrwllh\n"
     ]
    }
   ],
   "source": [
    "#128 & 131\n",
    "st=\"(*12hello3$ $4#world4*)\"\n",
    "res=\"\"\n",
    "res1=\"\"\n",
    "res2=\"\"\n",
    "res3=\"\"\n",
    "for i in st:\n",
    "    if (i>=\"A\" and i<=\"Z\") or (i>=\"a\" and i<=\"z\"):\n",
    "        if i not in \"aeiouAEIOU\":\n",
    "            res=i+res\n",
    "        elif i in \"aeiouAEIOU\":\n",
    "            res1=i+res1\n",
    "    elif (i>=\"0\" and i<=\"9\"):\n",
    "        res2=i+res2\n",
    "    else: \n",
    "        res3=i+res3\n",
    "print(res3+\",\"+res2+\",\"+res1+\",\"+res)\n",
    "\n"
   ]
  },
  {
   "cell_type": "code",
   "execution_count": 1,
   "metadata": {},
   "outputs": [
    {
     "name": "stdout",
     "output_type": "stream",
     "text": [
      "hllwrld,eoo,12344,(*$ $#*)\n"
     ]
    }
   ],
   "source": [
    "#129\n",
    "st=\"(*12hello3$ $4#world4*)\"\n",
    "res=\"\"\n",
    "res1=\"\"\n",
    "res2=\"\"\n",
    "res3=\"\"\n",
    "for i in st:\n",
    "    if (i>=\"A\" and i<=\"Z\") or (i>=\"a\" and i<=\"z\"):\n",
    "        if i not in \"aeiouAEIOU\":\n",
    "            res=res+i\n",
    "        elif i in \"aeiouAEIOU\":\n",
    "            res1=res1+i\n",
    "    elif (i>=\"0\" and i<=\"9\"):\n",
    "        res2=res2+i\n",
    "    else: \n",
    "        res3=res3+i\n",
    "print(res+\",\"+res1+\",\"+res2+\",\"+res3)"
   ]
  },
  {
   "cell_type": "code",
   "execution_count": 55,
   "metadata": {},
   "outputs": [
    {
     "name": "stdout",
     "output_type": "stream",
     "text": [
      "hllwrld,)*#$ $*(,eoo,44321\n"
     ]
    }
   ],
   "source": [
    "#130\n",
    "st=\"(*12hello3$ $4#world4*)\"\n",
    "res=\"\"\n",
    "res1=\"\"\n",
    "res2=\"\"\n",
    "res3=\"\"\n",
    "for i in st:\n",
    "    if (i>=\"A\" and i<=\"Z\") or (i>=\"a\" and i<=\"z\"):\n",
    "        if i not in \"aeiouAEIOU\":\n",
    "            res=res+i\n",
    "        elif i in \"aeiouAEIOU\":\n",
    "            res1=res1+i\n",
    "    elif (i>=\"0\" and i<=\"9\"):\n",
    "        res2=i+res2\n",
    "    else: \n",
    "        res3=i+res3\n",
    "print(res+\",\"+res3+\",\"+res1+\",\"+res2)"
   ]
  },
  {
   "cell_type": "code",
   "execution_count": 54,
   "metadata": {},
   "outputs": [
    {
     "name": "stdout",
     "output_type": "stream",
     "text": [
      "dlrwllh)*#$ $*(ooe44321\n"
     ]
    }
   ],
   "source": [
    "#132\n",
    "st=\"(*12hello3$ $4#world4*)\"\n",
    "res=\"\"\n",
    "res1=\"\"\n",
    "res2=\"\"\n",
    "res3=\"\"\n",
    "for i in st:\n",
    "    if (i>=\"A\" and i<=\"Z\") or (i>=\"a\" and i<=\"z\"):\n",
    "        if i not in \"aeiouAEIOU\":\n",
    "            res=i+res\n",
    "        elif i in \"aeiouAEIOU\":\n",
    "            res1=i+res1\n",
    "    elif (i>=\"0\" and i<=\"9\"):\n",
    "        res2=i+res2\n",
    "    elif not((i>=\"A\" and i<=\"Z\") or (i>=\"a\" and i<=\"z\") or (i>=\"0\" and i<=\"9\")): \n",
    "        res3=i+res3\n",
    "print(res+res3+res1+res2)"
   ]
  },
  {
   "cell_type": "code",
   "execution_count": 1,
   "metadata": {},
   "outputs": [
    {
     "name": "stdout",
     "output_type": "stream",
     "text": [
      "h$ll*w*rld\n"
     ]
    }
   ],
   "source": [
    "#133\n",
    "st=\"HELLOWORLD\"\n",
    "res=\"\"\n",
    "for i in st:\n",
    "    if (i>=\"A\" and i<=\"Z\") or (i>=\"a\" and i<=\"z\"):\n",
    "        if i not in \"aeiouAEIOU\":\n",
    "            res=res+chr(ord(i)+32)\n",
    "        elif i in \"aeiouAEIOU\":\n",
    "            if i==\"E\":\n",
    "                res=res+\"$\"\n",
    "            elif i==\"O\":\n",
    "                res=res+\"*\"\n",
    "print(res)"
   ]
  },
  {
   "cell_type": "code",
   "execution_count": 15,
   "metadata": {},
   "outputs": [
    {
     "name": "stdout",
     "output_type": "stream",
     "text": [
      "hllwrld21\n"
     ]
    }
   ],
   "source": [
    "#134\n",
    "st=\"123HELLO WORLD456\"\n",
    "res=\"\"\n",
    "sum=0\n",
    "for i in st:\n",
    "    if (i>=\"A\" and i<=\"Z\") or (i>=\"a\" and i<=\"z\"):\n",
    "        if i not in \"aeiouAEIOU\":\n",
    "            res=res+chr(ord(i)+32)\n",
    "    elif i>=\"0\" and i<=\"9\":\n",
    "        sum=sum+int(i)\n",
    "print(res+str(sum))\n",
    "\n"
   ]
  },
  {
   "cell_type": "code",
   "execution_count": 24,
   "metadata": {},
   "outputs": [
    {
     "name": "stdout",
     "output_type": "stream",
     "text": [
      "123hEllO wOrld456\n"
     ]
    }
   ],
   "source": [
    "#135\n",
    "st=\"123HELLO WORLD456\"\n",
    "res=\"\"\n",
    "for i in st:\n",
    "    if (i>=\"A\" and i<=\"Z\") or (i>=\"a\" and i<=\"z\"):\n",
    "        if i not in \"AEIOU\":\n",
    "            res=res+chr(ord(i)+32)\n",
    "        else:\n",
    "            res=res+i\n",
    "    elif i>=\"0\" and i<=\"9\":\n",
    "        res=res+i\n",
    "    elif i==\" \":\n",
    "        res=res+i\n",
    "print(res)"
   ]
  },
  {
   "cell_type": "code",
   "execution_count": 35,
   "metadata": {},
   "outputs": [
    {
     "name": "stdout",
     "output_type": "stream",
     "text": [
      "321hEllO wOrld654\n"
     ]
    }
   ],
   "source": [
    "#136\n",
    "st=\"123HELLO WORLD456\"\n",
    "res=\"\"\n",
    "res1=\"\"\n",
    "res2=\"\"\n",
    "for i in st:\n",
    "    if (i>=\"A\" and i<=\"Z\") or (i>=\"a\" and i<=\"z\"):\n",
    "        if i not in \"AEIOU\":\n",
    "            res=res+chr(ord(i)+32)\n",
    "        else:\n",
    "            res=res+i\n",
    "    elif i>=\"0\" and i<=\"3\":\n",
    "        res1=i+res1\n",
    "    elif i>=\"4\" and i<=\"9\":\n",
    "        res2=i+res2\n",
    "    elif i==\" \":\n",
    "        res=res+i\n",
    "print(res1+res+res2)\n",
    "\n",
    "\n"
   ]
  },
  {
   "cell_type": "code",
   "execution_count": 34,
   "metadata": {},
   "outputs": [
    {
     "name": "stdout",
     "output_type": "stream",
     "text": [
      "321*E**O *O***654\n"
     ]
    }
   ],
   "source": [
    "#137\n",
    "st=\"123HELLO WORLD456\"\n",
    "res=\"\"\n",
    "res1=\"\"\n",
    "res2=\"\"\n",
    "for i in st:\n",
    "    if (i>=\"A\" and i<=\"Z\") or (i>=\"a\" and i<=\"z\"):\n",
    "        if i not in \"aeiouAEIOU\":\n",
    "            res=res+\"*\"\n",
    "        elif i in \"aeiouAEIOU\":\n",
    "            res=res+i\n",
    "    elif i>=\"0\" and i<=\"3\":\n",
    "        res1=i+res1\n",
    "    elif i>=\"4\" and i<=\"9\":\n",
    "        res2=i+res2\n",
    "    elif i==\" \":\n",
    "        res=res+i\n",
    "print(res1+res+res2)"
   ]
  },
  {
   "cell_type": "code",
   "execution_count": 27,
   "metadata": {},
   "outputs": [
    {
     "name": "stdout",
     "output_type": "stream",
     "text": [
      "123*E**O *O***456\n"
     ]
    }
   ],
   "source": [
    "#138\n",
    "st=\"123HELLO WORLD456\"\n",
    "res=\"\"\n",
    "for i in st:\n",
    "    if (i>=\"A\" and i<=\"Z\") or (i>=\"a\" and i<=\"z\"):\n",
    "        if i not in \"aeiouAEIOU\":\n",
    "            res=res+\"*\"\n",
    "        elif i in \"aeiouAEIOU\":\n",
    "            res=res+i\n",
    "    elif i>=\"0\" and i<=\"9\":\n",
    "        res=res+i\n",
    "    elif i==\" \":\n",
    "        res=res+i\n",
    "print(res)\n"
   ]
  },
  {
   "cell_type": "code",
   "execution_count": 50,
   "metadata": {},
   "outputs": [
    {
     "name": "stdout",
     "output_type": "stream",
     "text": [
      "axbycz\n"
     ]
    }
   ],
   "source": [
    "#140\n",
    "st1=\"abc\"\n",
    "st2=\"xyz\"\n",
    "res=\"\"\n",
    "for i in st1:\n",
    "    res=res+i\n",
    "    for j in st2:\n",
    "        if j in res:\n",
    "            res=res\n",
    "        else:\n",
    "            res=res+j\n",
    "            break \n",
    "print(res)\n"
   ]
  },
  {
   "cell_type": "code",
   "execution_count": 51,
   "metadata": {},
   "outputs": [
    {
     "name": "stdout",
     "output_type": "stream",
     "text": [
      "axbycz\n"
     ]
    }
   ],
   "source": [
    "#141"
   ]
  }
 ],
 "metadata": {
  "kernelspec": {
   "display_name": "Python 3",
   "language": "python",
   "name": "python3"
  },
  "language_info": {
   "codemirror_mode": {
    "name": "ipython",
    "version": 3
   },
   "file_extension": ".py",
   "mimetype": "text/x-python",
   "name": "python",
   "nbconvert_exporter": "python",
   "pygments_lexer": "ipython3",
   "version": "3.12.2"
  }
 },
 "nbformat": 4,
 "nbformat_minor": 2
}
