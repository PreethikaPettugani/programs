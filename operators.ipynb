{
 "cells": [
  {
   "cell_type": "code",
   "execution_count": 3,
   "metadata": {},
   "outputs": [
    {
     "name": "stdout",
     "output_type": "stream",
     "text": [
      "30\n",
      "30\n",
      "40.26\n",
      "30.259999999999998\n",
      "20.259999999999998\n",
      "(185+2j)\n",
      "(166+2j)\n",
      "heroheroine\n"
     ]
    },
    {
     "ename": "TypeError",
     "evalue": "can only concatenate str (not \"int\") to str",
     "output_type": "error",
     "traceback": [
      "\u001b[1;31m---------------------------------------------------------------------------\u001b[0m",
      "\u001b[1;31mTypeError\u001b[0m                                 Traceback (most recent call last)",
      "Cell \u001b[1;32mIn[3], line 22\u001b[0m\n\u001b[0;32m     20\u001b[0m \u001b[38;5;28mstr\u001b[39m\u001b[38;5;241m=\u001b[39m\u001b[38;5;124m\"\u001b[39m\u001b[38;5;124mpython\u001b[39m\u001b[38;5;124m\"\u001b[39m\n\u001b[0;32m     21\u001b[0m num\u001b[38;5;241m=\u001b[39m\u001b[38;5;241m20\u001b[39m\n\u001b[1;32m---> 22\u001b[0m \u001b[38;5;28mprint\u001b[39m(\u001b[43mst\u001b[49m\u001b[38;5;241;43m+\u001b[39;49m\u001b[43mnum\u001b[49m)\n",
      "\u001b[1;31mTypeError\u001b[0m: can only concatenate str (not \"int\") to str"
     ]
    }
   ],
   "source": [
    "#arithmetic operators\n",
    "#addition(+)\n",
    "a=10\n",
    "b=20\n",
    "sum=a+b\n",
    "print(sum)\n",
    "print(a+b)\n",
    "num1=10\n",
    "num2=20\n",
    "num3=10.26\n",
    "num4=165+2j\n",
    "b=True\n",
    "print(num1+num2+num3)\n",
    "print(num2+num3)\n",
    "print(num1+num3)\n",
    "print(num2+num4)\n",
    "print(num4+b)\n",
    "st=\"hero\"\n",
    "st1=\"heroine\"\n",
    "print(st+st1)\n",
    "str=\"python\"\n",
    "num=20\n",
    "print(st+num)"
   ]
  },
  {
   "cell_type": "code",
   "execution_count": 4,
   "metadata": {},
   "outputs": [
    {
     "name": "stdout",
     "output_type": "stream",
     "text": [
      "[1, 2, 10]\n"
     ]
    },
    {
     "ename": "TypeError",
     "evalue": "unsupported operand type(s) for +: 'int' and 'list'",
     "output_type": "error",
     "traceback": [
      "\u001b[1;31m---------------------------------------------------------------------------\u001b[0m",
      "\u001b[1;31mTypeError\u001b[0m                                 Traceback (most recent call last)",
      "Cell \u001b[1;32mIn[4], line 5\u001b[0m\n\u001b[0;32m      3\u001b[0m num\u001b[38;5;241m=\u001b[39m\u001b[38;5;241m5\u001b[39m\n\u001b[0;32m      4\u001b[0m \u001b[38;5;28mprint\u001b[39m(l\u001b[38;5;241m+\u001b[39ml1)\n\u001b[1;32m----> 5\u001b[0m \u001b[38;5;28mprint\u001b[39m(\u001b[43mnum\u001b[49m\u001b[38;5;241;43m+\u001b[39;49m\u001b[43ml\u001b[49m)\n",
      "\u001b[1;31mTypeError\u001b[0m: unsupported operand type(s) for +: 'int' and 'list'"
     ]
    }
   ],
   "source": [
    "l=[1,2]\n",
    "l1=[10]\n",
    "num=5\n",
    "print(l+l1)\n",
    "print(num+l)"
   ]
  },
  {
   "cell_type": "code",
   "execution_count": 5,
   "metadata": {},
   "outputs": [
    {
     "name": "stdout",
     "output_type": "stream",
     "text": [
      "(1, 2, 5, 40)\n"
     ]
    },
    {
     "ename": "TypeError",
     "evalue": "can only concatenate tuple (not \"int\") to tuple",
     "output_type": "error",
     "traceback": [
      "\u001b[1;31m---------------------------------------------------------------------------\u001b[0m",
      "\u001b[1;31mTypeError\u001b[0m                                 Traceback (most recent call last)",
      "Cell \u001b[1;32mIn[5], line 4\u001b[0m\n\u001b[0;32m      2\u001b[0m t1\u001b[38;5;241m=\u001b[39m(\u001b[38;5;241m5\u001b[39m,\u001b[38;5;241m40\u001b[39m)\n\u001b[0;32m      3\u001b[0m \u001b[38;5;28mprint\u001b[39m(t\u001b[38;5;241m+\u001b[39mt1)\n\u001b[1;32m----> 4\u001b[0m \u001b[38;5;28mprint\u001b[39m(\u001b[43mt\u001b[49m\u001b[38;5;241;43m+\u001b[39;49m\u001b[38;5;241;43m20\u001b[39;49m)\n",
      "\u001b[1;31mTypeError\u001b[0m: can only concatenate tuple (not \"int\") to tuple"
     ]
    }
   ],
   "source": [
    "t=(1,2)\n",
    "t1=(5,40)\n",
    "print(t+t1)\n",
    "print(t+20)"
   ]
  },
  {
   "cell_type": "code",
   "execution_count": 6,
   "metadata": {},
   "outputs": [
    {
     "name": "stdout",
     "output_type": "stream",
     "text": [
      "the result is: 50\n",
      "the result is: 39.5\n",
      "the result is: (29.5-2j)\n",
      "the result is: (29.5-2j)\n",
      "the result is: (0.5-2j)\n",
      "the result is : 10.5\n"
     ]
    }
   ],
   "source": [
    "#subtraction(-)\n",
    "num1=100\n",
    "num2=50\n",
    "num3=10.5\n",
    "num4=10+2j\n",
    "b=False\n",
    "print(\"the result is:\",num1-num2)\n",
    "print(\"the result is:\",num1-num2-num3)\n",
    "print(\"the result is:\",num1-num2-num3-num4)\n",
    "print(\"the result is:\",num2-num3-num4)\n",
    "print(\"the result is:\",num3-num4)\n",
    "print(\"the result is :\",num3-b)\n",
    "\n",
    "\n"
   ]
  },
  {
   "cell_type": "code",
   "execution_count": 9,
   "metadata": {},
   "outputs": [
    {
     "name": "stdout",
     "output_type": "stream",
     "text": [
      "200\n",
      "2039.9999999999998\n",
      "204.0\n",
      "(102+20.4j)\n",
      "(100+20j)\n",
      "rajarajaraja\n",
      "[1, 2, 3, 4, 1, 2, 3, 4, 1, 2, 3, 4, 1, 2, 3, 4]\n"
     ]
    }
   ],
   "source": [
    "#multiplication(*)\n",
    "num1=10\n",
    "num2=20\n",
    "num3=10.2\n",
    "num4=10+2j\n",
    "print(num1*num2)\n",
    "print(num1*num2*num3)\n",
    "print(num2*num3)\n",
    "print(num3*num4)\n",
    "print(num1*num4)\n",
    "name=\"raja\"\n",
    "print(name*3)\n",
    "l=[1,2,3,4]\n",
    "print(l*4)\n"
   ]
  },
  {
   "cell_type": "code",
   "execution_count": null,
   "metadata": {},
   "outputs": [],
   "source": [
    "#division(/)"
   ]
  },
  {
   "cell_type": "code",
   "execution_count": 18,
   "metadata": {},
   "outputs": [
    {
     "name": "stdout",
     "output_type": "stream",
     "text": [
      "True\n"
     ]
    }
   ],
   "source": [
    "num=88\n",
    "res1=num<122 and num>48\n",
    "res2=num%4==0\n",
    "res=res1 and res2\n",
    "print(res)"
   ]
  }
 ],
 "metadata": {
  "kernelspec": {
   "display_name": "Python 3",
   "language": "python",
   "name": "python3"
  },
  "language_info": {
   "codemirror_mode": {
    "name": "ipython",
    "version": 3
   },
   "file_extension": ".py",
   "mimetype": "text/x-python",
   "name": "python",
   "nbconvert_exporter": "python",
   "pygments_lexer": "ipython3",
   "version": "3.12.2"
  }
 },
 "nbformat": 4,
 "nbformat_minor": 2
}
