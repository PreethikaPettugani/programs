{
 "cells": [
  {
   "cell_type": "code",
   "execution_count": 20,
   "metadata": {},
   "outputs": [
    {
     "name": "stdout",
     "output_type": "stream",
     "text": [
      "oneplus\n",
      "apple\n",
      "venu\n",
      "gopal\n",
      "amaresh\n",
      "anaconda\n",
      "elppa\n",
      "sulp\n",
      "['apple', 'oneplus']\n",
      "ana\n",
      "resh\n",
      "lap\n",
      "pp\n",
      "hse\n",
      "oneplusapple\n",
      "venuresh\n"
     ]
    }
   ],
   "source": [
    "d={1:[\"oneplus\",\"apple\"],2:{\"name1\":\"venugopal\",\"name2\":\"amaresh\"},\"a\":\"anaconda\"}\n",
    "print(d[1][0])\n",
    "print(d[1][1])\n",
    "print(d[2][\"name1\"][0:4])\n",
    "print(d[2][\"name1\"][-5:])\n",
    "print(d[2][\"name2\"])\n",
    "print(d[\"a\"])\n",
    "print(d[1][1][::-1])\n",
    "print(d[1][0][-1:2:-1])\n",
    "print(d[1][-1::-1])\n",
    "print(d[\"a\"][0:3])\n",
    "print(d[2][\"name2\"][3:])\n",
    "print(d[2][\"name1\"][8:5:-1])\n",
    "print(d[1][1][1:3])\n",
    "print(d[2][\"name2\"][6:3:-1])\n",
    "print(d[1][0]+d[1][1])\n",
    "print(d[2][\"name1\"][0:4]+d[2][\"name2\"][3:])"
   ]
  }
 ],
 "metadata": {
  "kernelspec": {
   "display_name": "Python 3",
   "language": "python",
   "name": "python3"
  },
  "language_info": {
   "codemirror_mode": {
    "name": "ipython",
    "version": 3
   },
   "file_extension": ".py",
   "mimetype": "text/x-python",
   "name": "python",
   "nbconvert_exporter": "python",
   "pygments_lexer": "ipython3",
   "version": "3.12.2"
  }
 },
 "nbformat": 4,
 "nbformat_minor": 2
}
