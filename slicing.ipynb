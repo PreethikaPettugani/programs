{
 "cells": [
  {
   "cell_type": "code",
   "execution_count": 20,
   "metadata": {},
   "outputs": [
    {
     "name": "stdout",
     "output_type": "stream",
     "text": [
      "oneplus\n",
      "apple\n",
      "venu\n",
      "gopal\n",
      "amaresh\n",
      "anaconda\n",
      "elppa\n",
      "sulp\n",
      "['apple', 'oneplus']\n",
      "ana\n",
      "resh\n",
      "lap\n",
      "pp\n",
      "hse\n",
      "oneplusapple\n",
      "venuresh\n"
     ]
    }
   ],
   "source": [
    "d={1:[\"oneplus\",\"apple\"],2:{\"name1\":\"venugopal\",\"name2\":\"amaresh\"},\"a\":\"anaconda\"}\n",
    "print(d[1][0])\n",
    "print(d[1][1])\n",
    "print(d[2][\"name1\"][0:4])\n",
    "print(d[2][\"name1\"][-5:])\n",
    "print(d[2][\"name2\"])\n",
    "print(d[\"a\"])\n",
    "print(d[1][1][::-1])\n",
    "print(d[1][0][-1:2:-1])\n",
    "print(d[1][-1::-1])\n",
    "print(d[\"a\"][0:3])\n",
    "print(d[2][\"name2\"][3:])\n",
    "print(d[2][\"name1\"][8:5:-1])\n",
    "print(d[1][1][1:3])\n",
    "print(d[2][\"name2\"][6:3:-1])\n",
    "print(d[1][0]+d[1][1])\n",
    "print(d[2][\"name1\"][0:4]+d[2][\"name2\"][3:])"
   ]
  },
  {
   "cell_type": "code",
   "execution_count": 16,
   "metadata": {},
   "outputs": [
    {
     "name": "stdout",
     "output_type": "stream",
     "text": [
      "james\n",
      "frank\n",
      "[100, 200]\n",
      "meas\n",
      "23\n",
      "rat\n",
      "RCB\n",
      "BCR\n",
      "tar\n",
      "riv\n",
      "nosaem\n",
      "hit\n",
      "hor\n",
      "[200, 100]\n",
      "nilknarf\n",
      "['rohit', 200]\n",
      "['virat', 'RCB']\n",
      "['RCB', 'virat']\n"
     ]
    }
   ],
   "source": [
    "l=[\"james franklin\",[100,200,\"rohit\"],{'name':'meason','age':23},\"virat\",\"RCB\"]\n",
    "print(l[0][0:5])\n",
    "print(l[0][6:11])\n",
    "print(l[1][0:2])\n",
    "print(l[2]['name'][:4])\n",
    "print(l[2]['age'])\n",
    "print(l[3][2:])\n",
    "print(l[4])\n",
    "print(l[4][-1::-1])\n",
    "print(l[3][-1:-4:-1])\n",
    "print(l[3][-3: :-1])\n",
    "print(l[2]['name'][-1: :-1])\n",
    "print(l[1][2][2: ])\n",
    "print(l[1][2][-3: :-1])\n",
    "print(l[1][-2: :-1])\n",
    "print(l[0][-1:-9:-1])\n",
    "print(l[1][-1:-3:-1])\n",
    "print(l[3:])\n",
    "print(l[-1:-3:-1])\n",
    "\n"
   ]
  }
 ],
 "metadata": {
  "kernelspec": {
   "display_name": "Python 3",
   "language": "python",
   "name": "python3"
  },
  "language_info": {
   "codemirror_mode": {
    "name": "ipython",
    "version": 3
   },
   "file_extension": ".py",
   "mimetype": "text/x-python",
   "name": "python",
   "nbconvert_exporter": "python",
   "pygments_lexer": "ipython3",
   "version": "3.12.2"
  }
 },
 "nbformat": 4,
 "nbformat_minor": 2
}
